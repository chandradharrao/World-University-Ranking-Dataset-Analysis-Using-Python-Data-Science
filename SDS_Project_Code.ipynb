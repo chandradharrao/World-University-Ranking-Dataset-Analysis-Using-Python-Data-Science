{
  "nbformat": 4,
  "nbformat_minor": 0,
  "metadata": {
    "colab": {
      "name": "SDS Project Code.ipynb",
      "provenance": [],
      "collapsed_sections": [
        "PqeRtvE1PX4N",
        "Giv3Nd2dbWV7",
        "foKRU1NezAyx",
        "sEFUW1I3UKR7",
        "HQs4az1COvej"
      ]
    },
    "kernelspec": {
      "name": "python3",
      "display_name": "Python 3"
    }
  },
  "cells": [
    {
      "cell_type": "markdown",
      "metadata": {
        "id": "PqeRtvE1PX4N"
      },
      "source": [
        "### Libraries and the Dataset"
      ]
    },
    {
      "cell_type": "markdown",
      "metadata": {
        "id": "iyTG4blduBtb"
      },
      "source": [
        "**About the data**\n",
        "\n",
        "The *Times Higher Education (THE)* university rankings dataset from 2011 to 2016.\n",
        "\n",
        "A world rank is designated and scores assigned between 0 and 100 for:\n",
        "\n",
        "* Teaching (teaching/the learning environment)\n",
        "* International Outlook (international/staff, students and research)\n",
        "* Research (research/volume, income and reputation)\n",
        "* Citations (citations/research influence)\n",
        "* Industry Income (income/knowledge transfer, value not available for all)\n",
        "\n",
        "The weight of the above factors in calculating the total score:\n",
        "\n",
        "Teaching: 30%;\n",
        "International Outlook 7.5%;\n",
        "Research: 30%;\n",
        "Citations: 30%;\n",
        "Industry Income: 2.5%;\n",
        "\n",
        "      total_score = 0.3*teaching + 0.075*international + 0.3*research + 0.3*citations + 0.025*income\n",
        "\n"
      ]
    },
    {
      "cell_type": "code",
      "metadata": {
        "id": "ZoXOw1UfIUkJ",
        "outputId": "e208b8e1-426e-4a33-bf4d-10bb7b2979c7",
        "colab": {
          "base_uri": "https://localhost:8080/"
        }
      },
      "source": [
        "# Import necessary libraries\n",
        "import math\n",
        "import copy\n",
        "import pandas as pd\n",
        "import numpy as np\n",
        "import scipy.stats as stats\n",
        "import matplotlib.pyplot as plt\n",
        "import seaborn as sns\n",
        "!pip install pingouin\n",
        "import pingouin as pg\n",
        "import plotly.express as px\n",
        "import plotly.graph_objects as go\n",
        "from plotly.subplots import make_subplots\n",
        "%matplotlib inline"
      ],
      "execution_count": null,
      "outputs": [
        {
          "output_type": "stream",
          "text": [
            "Requirement already satisfied: pingouin in /usr/local/lib/python3.6/dist-packages (0.3.8)\n",
            "Requirement already satisfied: tabulate in /usr/local/lib/python3.6/dist-packages (from pingouin) (0.8.7)\n",
            "Requirement already satisfied: pandas>=0.24 in /usr/local/lib/python3.6/dist-packages (from pingouin) (1.1.4)\n",
            "Requirement already satisfied: statsmodels>=0.10.0 in /usr/local/lib/python3.6/dist-packages (from pingouin) (0.10.2)\n",
            "Requirement already satisfied: seaborn>=0.9.0 in /usr/local/lib/python3.6/dist-packages (from pingouin) (0.11.0)\n",
            "Requirement already satisfied: scikit-learn in /usr/local/lib/python3.6/dist-packages (from pingouin) (0.22.2.post1)\n",
            "Requirement already satisfied: numpy>=1.15 in /usr/local/lib/python3.6/dist-packages (from pingouin) (1.18.5)\n",
            "Requirement already satisfied: pandas-flavor>=0.1.2 in /usr/local/lib/python3.6/dist-packages (from pingouin) (0.2.0)\n",
            "Requirement already satisfied: matplotlib>=3.0.2 in /usr/local/lib/python3.6/dist-packages (from pingouin) (3.2.2)\n",
            "Requirement already satisfied: outdated in /usr/local/lib/python3.6/dist-packages (from pingouin) (0.2.0)\n",
            "Requirement already satisfied: scipy>=1.3 in /usr/local/lib/python3.6/dist-packages (from pingouin) (1.4.1)\n",
            "Requirement already satisfied: pytz>=2017.2 in /usr/local/lib/python3.6/dist-packages (from pandas>=0.24->pingouin) (2018.9)\n",
            "Requirement already satisfied: python-dateutil>=2.7.3 in /usr/local/lib/python3.6/dist-packages (from pandas>=0.24->pingouin) (2.8.1)\n",
            "Requirement already satisfied: patsy>=0.4.0 in /usr/local/lib/python3.6/dist-packages (from statsmodels>=0.10.0->pingouin) (0.5.1)\n",
            "Requirement already satisfied: joblib>=0.11 in /usr/local/lib/python3.6/dist-packages (from scikit-learn->pingouin) (0.17.0)\n",
            "Requirement already satisfied: xarray in /usr/local/lib/python3.6/dist-packages (from pandas-flavor>=0.1.2->pingouin) (0.15.1)\n",
            "Requirement already satisfied: kiwisolver>=1.0.1 in /usr/local/lib/python3.6/dist-packages (from matplotlib>=3.0.2->pingouin) (1.3.1)\n",
            "Requirement already satisfied: pyparsing!=2.0.4,!=2.1.2,!=2.1.6,>=2.0.1 in /usr/local/lib/python3.6/dist-packages (from matplotlib>=3.0.2->pingouin) (2.4.7)\n",
            "Requirement already satisfied: cycler>=0.10 in /usr/local/lib/python3.6/dist-packages (from matplotlib>=3.0.2->pingouin) (0.10.0)\n",
            "Requirement already satisfied: littleutils in /usr/local/lib/python3.6/dist-packages (from outdated->pingouin) (0.2.2)\n",
            "Requirement already satisfied: requests in /usr/local/lib/python3.6/dist-packages (from outdated->pingouin) (2.23.0)\n",
            "Requirement already satisfied: six>=1.5 in /usr/local/lib/python3.6/dist-packages (from python-dateutil>=2.7.3->pandas>=0.24->pingouin) (1.15.0)\n",
            "Requirement already satisfied: setuptools>=41.2 in /usr/local/lib/python3.6/dist-packages (from xarray->pandas-flavor>=0.1.2->pingouin) (50.3.2)\n",
            "Requirement already satisfied: certifi>=2017.4.17 in /usr/local/lib/python3.6/dist-packages (from requests->outdated->pingouin) (2020.6.20)\n",
            "Requirement already satisfied: chardet<4,>=3.0.2 in /usr/local/lib/python3.6/dist-packages (from requests->outdated->pingouin) (3.0.4)\n",
            "Requirement already satisfied: urllib3!=1.25.0,!=1.25.1,<1.26,>=1.21.1 in /usr/local/lib/python3.6/dist-packages (from requests->outdated->pingouin) (1.24.3)\n",
            "Requirement already satisfied: idna<3,>=2.5 in /usr/local/lib/python3.6/dist-packages (from requests->outdated->pingouin) (2.10)\n"
          ],
          "name": "stdout"
        }
      ]
    },
    {
      "cell_type": "code",
      "metadata": {
        "id": "Wr9SoAU9O6Kz",
        "outputId": "074e76af-203f-450b-b11f-3bb0722f3ba7",
        "colab": {
          "base_uri": "https://localhost:8080/",
          "height": 478
        }
      },
      "source": [
        "# Load the dataset\n",
        "path = \"/content/uni_rankings_dataset.csv\"\n",
        "data = pd.read_csv(path)\n",
        "\n",
        "# View feature names and the top 10 instances\n",
        "data.head(10)"
      ],
      "execution_count": null,
      "outputs": [
        {
          "output_type": "execute_result",
          "data": {
            "text/html": [
              "<div>\n",
              "<style scoped>\n",
              "    .dataframe tbody tr th:only-of-type {\n",
              "        vertical-align: middle;\n",
              "    }\n",
              "\n",
              "    .dataframe tbody tr th {\n",
              "        vertical-align: top;\n",
              "    }\n",
              "\n",
              "    .dataframe thead th {\n",
              "        text-align: right;\n",
              "    }\n",
              "</style>\n",
              "<table border=\"1\" class=\"dataframe\">\n",
              "  <thead>\n",
              "    <tr style=\"text-align: right;\">\n",
              "      <th></th>\n",
              "      <th>world_rank</th>\n",
              "      <th>university_name</th>\n",
              "      <th>country</th>\n",
              "      <th>teaching</th>\n",
              "      <th>international</th>\n",
              "      <th>research</th>\n",
              "      <th>citations</th>\n",
              "      <th>income</th>\n",
              "      <th>total_score</th>\n",
              "      <th>num_students</th>\n",
              "      <th>student_staff_ratio</th>\n",
              "      <th>international_students</th>\n",
              "      <th>female_male_ratio</th>\n",
              "      <th>year</th>\n",
              "    </tr>\n",
              "  </thead>\n",
              "  <tbody>\n",
              "    <tr>\n",
              "      <th>0</th>\n",
              "      <td>1</td>\n",
              "      <td>Harvard University</td>\n",
              "      <td>United States of America</td>\n",
              "      <td>99.7</td>\n",
              "      <td>72.4</td>\n",
              "      <td>98.7</td>\n",
              "      <td>98.8</td>\n",
              "      <td>34.5</td>\n",
              "      <td>96.1</td>\n",
              "      <td>20,152</td>\n",
              "      <td>8.9</td>\n",
              "      <td>25%</td>\n",
              "      <td>NaN</td>\n",
              "      <td>2011</td>\n",
              "    </tr>\n",
              "    <tr>\n",
              "      <th>1</th>\n",
              "      <td>2</td>\n",
              "      <td>California Institute of Technology</td>\n",
              "      <td>United States of America</td>\n",
              "      <td>97.7</td>\n",
              "      <td>54.6</td>\n",
              "      <td>98.0</td>\n",
              "      <td>99.9</td>\n",
              "      <td>83.7</td>\n",
              "      <td>96.0</td>\n",
              "      <td>2,243</td>\n",
              "      <td>6.9</td>\n",
              "      <td>27%</td>\n",
              "      <td>33 : 67</td>\n",
              "      <td>2011</td>\n",
              "    </tr>\n",
              "    <tr>\n",
              "      <th>2</th>\n",
              "      <td>3</td>\n",
              "      <td>Massachusetts Institute of Technology</td>\n",
              "      <td>United States of America</td>\n",
              "      <td>97.8</td>\n",
              "      <td>82.3</td>\n",
              "      <td>91.4</td>\n",
              "      <td>99.9</td>\n",
              "      <td>87.5</td>\n",
              "      <td>95.6</td>\n",
              "      <td>11,074</td>\n",
              "      <td>9.0</td>\n",
              "      <td>33%</td>\n",
              "      <td>37 : 63</td>\n",
              "      <td>2011</td>\n",
              "    </tr>\n",
              "    <tr>\n",
              "      <th>3</th>\n",
              "      <td>4</td>\n",
              "      <td>Stanford University</td>\n",
              "      <td>United States of America</td>\n",
              "      <td>98.3</td>\n",
              "      <td>29.5</td>\n",
              "      <td>98.1</td>\n",
              "      <td>99.2</td>\n",
              "      <td>64.3</td>\n",
              "      <td>94.3</td>\n",
              "      <td>15,596</td>\n",
              "      <td>7.8</td>\n",
              "      <td>22%</td>\n",
              "      <td>42 : 58</td>\n",
              "      <td>2011</td>\n",
              "    </tr>\n",
              "    <tr>\n",
              "      <th>4</th>\n",
              "      <td>5</td>\n",
              "      <td>Princeton University</td>\n",
              "      <td>United States of America</td>\n",
              "      <td>90.9</td>\n",
              "      <td>70.3</td>\n",
              "      <td>95.4</td>\n",
              "      <td>99.9</td>\n",
              "      <td>-</td>\n",
              "      <td>94.2</td>\n",
              "      <td>7,929</td>\n",
              "      <td>8.4</td>\n",
              "      <td>27%</td>\n",
              "      <td>45 : 55</td>\n",
              "      <td>2011</td>\n",
              "    </tr>\n",
              "    <tr>\n",
              "      <th>5</th>\n",
              "      <td>6</td>\n",
              "      <td>University of Cambridge</td>\n",
              "      <td>United Kingdom</td>\n",
              "      <td>90.5</td>\n",
              "      <td>77.7</td>\n",
              "      <td>94.1</td>\n",
              "      <td>94.0</td>\n",
              "      <td>57.0</td>\n",
              "      <td>91.2</td>\n",
              "      <td>18,812</td>\n",
              "      <td>11.8</td>\n",
              "      <td>34%</td>\n",
              "      <td>46 : 54</td>\n",
              "      <td>2011</td>\n",
              "    </tr>\n",
              "    <tr>\n",
              "      <th>6</th>\n",
              "      <td>6</td>\n",
              "      <td>University of Oxford</td>\n",
              "      <td>United Kingdom</td>\n",
              "      <td>88.2</td>\n",
              "      <td>77.2</td>\n",
              "      <td>93.9</td>\n",
              "      <td>95.1</td>\n",
              "      <td>73.5</td>\n",
              "      <td>91.2</td>\n",
              "      <td>19,919</td>\n",
              "      <td>11.6</td>\n",
              "      <td>34%</td>\n",
              "      <td>46 : 54</td>\n",
              "      <td>2011</td>\n",
              "    </tr>\n",
              "    <tr>\n",
              "      <th>7</th>\n",
              "      <td>8</td>\n",
              "      <td>University of California, Berkeley</td>\n",
              "      <td>United States of America</td>\n",
              "      <td>84.2</td>\n",
              "      <td>39.6</td>\n",
              "      <td>99.3</td>\n",
              "      <td>97.8</td>\n",
              "      <td>-</td>\n",
              "      <td>91.1</td>\n",
              "      <td>36,186</td>\n",
              "      <td>16.4</td>\n",
              "      <td>15%</td>\n",
              "      <td>50 : 50</td>\n",
              "      <td>2011</td>\n",
              "    </tr>\n",
              "    <tr>\n",
              "      <th>8</th>\n",
              "      <td>9</td>\n",
              "      <td>Imperial College London</td>\n",
              "      <td>United Kingdom</td>\n",
              "      <td>89.2</td>\n",
              "      <td>90.0</td>\n",
              "      <td>94.5</td>\n",
              "      <td>88.3</td>\n",
              "      <td>92.9</td>\n",
              "      <td>90.6</td>\n",
              "      <td>15,060</td>\n",
              "      <td>11.7</td>\n",
              "      <td>51%</td>\n",
              "      <td>37 : 63</td>\n",
              "      <td>2011</td>\n",
              "    </tr>\n",
              "    <tr>\n",
              "      <th>9</th>\n",
              "      <td>10</td>\n",
              "      <td>Yale University</td>\n",
              "      <td>United States of America</td>\n",
              "      <td>92.1</td>\n",
              "      <td>59.2</td>\n",
              "      <td>89.7</td>\n",
              "      <td>91.5</td>\n",
              "      <td>-</td>\n",
              "      <td>89.5</td>\n",
              "      <td>11,751</td>\n",
              "      <td>4.4</td>\n",
              "      <td>20%</td>\n",
              "      <td>50 : 50</td>\n",
              "      <td>2011</td>\n",
              "    </tr>\n",
              "  </tbody>\n",
              "</table>\n",
              "</div>"
            ],
            "text/plain": [
              "  world_rank                        university_name  ... female_male_ratio  year\n",
              "0          1                     Harvard University  ...               NaN  2011\n",
              "1          2     California Institute of Technology  ...           33 : 67  2011\n",
              "2          3  Massachusetts Institute of Technology  ...           37 : 63  2011\n",
              "3          4                    Stanford University  ...           42 : 58  2011\n",
              "4          5                   Princeton University  ...           45 : 55  2011\n",
              "5          6                University of Cambridge  ...           46 : 54  2011\n",
              "6          6                   University of Oxford  ...           46 : 54  2011\n",
              "7          8     University of California, Berkeley  ...           50 : 50  2011\n",
              "8          9                Imperial College London  ...           37 : 63  2011\n",
              "9         10                        Yale University  ...           50 : 50  2011\n",
              "\n",
              "[10 rows x 14 columns]"
            ]
          },
          "metadata": {
            "tags": []
          },
          "execution_count": 1664
        }
      ]
    },
    {
      "cell_type": "markdown",
      "metadata": {
        "id": "ewTUV0GFOlFo"
      },
      "source": [
        "### Exploratory Data Analysis\n"
      ]
    },
    {
      "cell_type": "markdown",
      "metadata": {
        "id": "Giv3Nd2dbWV7"
      },
      "source": [
        "#### Feature Analysis"
      ]
    },
    {
      "cell_type": "code",
      "metadata": {
        "id": "zCc9i0vdNaPK",
        "outputId": "3ad2beff-53ad-4fe6-dbfe-65d8574fe517",
        "colab": {
          "base_uri": "https://localhost:8080/"
        }
      },
      "source": [
        "# (instances, features)\n",
        "print(\"Dataframe shape: \", data.shape, \"\\n\")\n",
        "print(data.info())"
      ],
      "execution_count": null,
      "outputs": [
        {
          "output_type": "stream",
          "text": [
            "Dataframe shape:  (2603, 14) \n",
            "\n",
            "<class 'pandas.core.frame.DataFrame'>\n",
            "RangeIndex: 2603 entries, 0 to 2602\n",
            "Data columns (total 14 columns):\n",
            " #   Column                  Non-Null Count  Dtype  \n",
            "---  ------                  --------------  -----  \n",
            " 0   world_rank              2603 non-null   object \n",
            " 1   university_name         2603 non-null   object \n",
            " 2   country                 2603 non-null   object \n",
            " 3   teaching                2603 non-null   float64\n",
            " 4   international           2603 non-null   object \n",
            " 5   research                2603 non-null   float64\n",
            " 6   citations               2603 non-null   float64\n",
            " 7   income                  2603 non-null   object \n",
            " 8   total_score             2603 non-null   object \n",
            " 9   num_students            2544 non-null   object \n",
            " 10  student_staff_ratio     2544 non-null   float64\n",
            " 11  international_students  2536 non-null   object \n",
            " 12  female_male_ratio       2370 non-null   object \n",
            " 13  year                    2603 non-null   int64  \n",
            "dtypes: float64(4), int64(1), object(9)\n",
            "memory usage: 284.8+ KB\n",
            "None\n"
          ],
          "name": "stdout"
        }
      ]
    },
    {
      "cell_type": "markdown",
      "metadata": {
        "id": "LuK8B_dRDycx"
      },
      "source": [
        "1. `world_rank` : World rank for the university. Contains rank ranges and equal ranks (eg. =94 and 201-250)\n",
        "2. `university_name` : Name of the university\n",
        "3. `country` : Country of each university\n",
        "4. `teaching` : University score for teaching (the learning environment)\n",
        "5. `international` : University score for international outlook (students, staff, reasearch)\n",
        "6. `research` : University score for research (volume, income and reputation)\n",
        "7. `citations` : University score for citations (research influence)\n",
        "8. `income` : University score for industry income (knowledge transfer)\n",
        "9. `total_score` : Total score for university, used to determine rank\n",
        "10. `num_students` : Number of students at the university\n",
        "11. `student_staff_ratio` : Ratio of students to staff at the university\n",
        "12. `international_students` : Percentage of students of international origin\n",
        "13. `female_male_ratio` : Ratio of female students to male students in the university\n",
        "14. `year` : Year of publishing rankings"
      ]
    },
    {
      "cell_type": "markdown",
      "metadata": {
        "id": "GRat_siYjliD"
      },
      "source": [
        "#### String Processing"
      ]
    },
    {
      "cell_type": "code",
      "metadata": {
        "id": "7ZY23w1LAu9N"
      },
      "source": [
        "# Data contains '-' values, assign as NaN\n",
        "data.replace('-', np.NaN, inplace=True)"
      ],
      "execution_count": null,
      "outputs": []
    },
    {
      "cell_type": "markdown",
      "metadata": {
        "id": "UgyNA9EiQ4T0"
      },
      "source": [
        "**Process categorical variable values**"
      ]
    },
    {
      "cell_type": "code",
      "metadata": {
        "id": "wqYqBfX6P_pA",
        "outputId": "b97ad663-8b0f-4658-f8bc-5bf2dfb7d503",
        "colab": {
          "base_uri": "https://localhost:8080/"
        }
      },
      "source": [
        "# Check for inconsistent capitalization\n",
        "print(*set(data.country.values), sep=' ')"
      ],
      "execution_count": null,
      "outputs": [
        {
          "output_type": "stream",
          "text": [
            "Chile Belgium Lebanon Thailand Egypt Australia Argentina Unted Kingdom Denmark Romania Germany Israel United Kingdom Japan Cyprus Spain Turkey United States of America Hong Kong Luxembourg Belarus Nigeria Serbia Kenya Slovakia Finland Iceland Macau Uganda Ghana Slovenia Iran Lithuania New Zealand China Norway Unisted States of America Hungary Bangladesh Latvia Jordan Russian Federation India South Korea Saudi Arabia Switzerland Portugal South Africa Qatar Ukraine Morocco Estonia Italy Mexico United Arab Emirates Colombia Sweden Pakistan Brazil Greece Poland Taiwan Republic of Ireland Indonesia Malaysia France Oman Canada Austria Czech Republic Singapore Netherlands\n"
          ],
          "name": "stdout"
        }
      ]
    },
    {
      "cell_type": "markdown",
      "metadata": {
        "id": "DuMu_HbfQvZy"
      },
      "source": [
        "No inconsistent capitalization found"
      ]
    },
    {
      "cell_type": "code",
      "metadata": {
        "id": "M6N2e2RIvwwn",
        "outputId": "5442aaee-ceb9-4d20-d41e-b3c3a559630f",
        "colab": {
          "base_uri": "https://localhost:8080/"
        }
      },
      "source": [
        "# Process world_rank\n",
        "data.world_rank.value_counts().keys()"
      ],
      "execution_count": null,
      "outputs": [
        {
          "output_type": "execute_result",
          "data": {
            "text/plain": [
              "Index(['301-350', '601-800', '351-400', '276-300', '201-225', '501-600',\n",
              "       '226-250', '401-500', '251-275', '201-250',\n",
              "       ...\n",
              "       '=138', '=82', '=99', '=123', '=39', '=65', '=47', '=176', '133',\n",
              "       '179'],\n",
              "      dtype='object', length=250)"
            ]
          },
          "metadata": {
            "tags": []
          },
          "execution_count": 1668
        }
      ]
    },
    {
      "cell_type": "code",
      "metadata": {
        "id": "TBjf7iV6zscW",
        "outputId": "200cca5b-92ac-4d05-cb57-f96c469e8fdb",
        "colab": {
          "base_uri": "https://localhost:8080/"
        }
      },
      "source": [
        "# Observe year keys and number of instances each\n",
        "data.year.value_counts()"
      ],
      "execution_count": null,
      "outputs": [
        {
          "output_type": "execute_result",
          "data": {
            "text/plain": [
              "2016    800\n",
              "2012    402\n",
              "2015    401\n",
              "2013    400\n",
              "2014    400\n",
              "2011    200\n",
              "Name: year, dtype: int64"
            ]
          },
          "metadata": {
            "tags": []
          },
          "execution_count": 1669
        }
      ]
    },
    {
      "cell_type": "markdown",
      "metadata": {
        "id": "sDrFR4SlQngU"
      },
      "source": [
        "**Process numeric variables values**"
      ]
    },
    {
      "cell_type": "code",
      "metadata": {
        "id": "L01xRWTYzDrF",
        "outputId": "07f96ecc-ab34-44b3-eced-518eaf523ce8",
        "colab": {
          "base_uri": "https://localhost:8080/"
        }
      },
      "source": [
        "# Process num_students to remove commas\n",
        "print(\"Before processing: \")\n",
        "print(*data.num_students.values[:20], sep=\", \")\n",
        "print(\"\\n\")\n",
        "\n",
        "# Replace commas with empty string \n",
        "data.num_students = [i.replace(',', '') if isinstance(i, str) else i for i in data.num_students.values]\n",
        "# Convert from str to float, can be changed to int after data cleaning\n",
        "data.num_students = [float(i) for i in data.num_students.values]\n",
        "\n",
        "print(\"After processing 'num_students': \")\n",
        "print(*data.num_students.values[:20], sep=\", \")"
      ],
      "execution_count": null,
      "outputs": [
        {
          "output_type": "stream",
          "text": [
            "Before processing: \n",
            "20,152, 2,243, 11,074, 15,596, 7,929, 18,812, 19,919, 36,186, 15,060, 11,751, 38,206, 14,221, 15,128, 21,424, 18,178, 41,786, 66,198, 25,055, 20,376, 11,885\n",
            "\n",
            "\n",
            "After processing 'num_students': \n",
            "20152.0, 2243.0, 11074.0, 15596.0, 7929.0, 18812.0, 19919.0, 36186.0, 15060.0, 11751.0, 38206.0, 14221.0, 15128.0, 21424.0, 18178.0, 41786.0, 66198.0, 25055.0, 20376.0, 11885.0\n"
          ],
          "name": "stdout"
        }
      ]
    },
    {
      "cell_type": "code",
      "metadata": {
        "id": "_rBmFnFGmsMA",
        "outputId": "dabcf1b0-b5e8-4e45-c905-81db71b1aacf",
        "colab": {
          "base_uri": "https://localhost:8080/"
        }
      },
      "source": [
        "# Process international_students\n",
        "print(\"Before processing: \")\n",
        "print(*data.international_students.values[:30], sep=\", \")\n",
        "print(\"\\n\")\n",
        "\n",
        "# Remove percentage symbols from the 'international_students' feature\n",
        "data.international_students = [i[ : -1] if isinstance(i, str) else i for i in data.international_students.values]\n",
        "# Convert from str to float\n",
        "data.international_students = [float(i) for i in data.international_students.values]\n",
        "\n",
        "print(\"After processing 'international_students': \")\n",
        "print(*data.international_students.values[:30], sep=\", \")"
      ],
      "execution_count": null,
      "outputs": [
        {
          "output_type": "stream",
          "text": [
            "Before processing: \n",
            "25%, 27%, 33%, 22%, 27%, 34%, 34%, 15%, 51%, 20%, 15%, 21%, 23%, 19%, 37%, 16%, 15%, 28%, 20%, 35%, 38%, 46%, 13%, 17%, 15%, 10%, 26%, 4%, 11%, 25%\n",
            "\n",
            "\n",
            "After processing 'international_students': \n",
            "25.0, 27.0, 33.0, 22.0, 27.0, 34.0, 34.0, 15.0, 51.0, 20.0, 15.0, 21.0, 23.0, 19.0, 37.0, 16.0, 15.0, 28.0, 20.0, 35.0, 38.0, 46.0, 13.0, 17.0, 15.0, 10.0, 26.0, 4.0, 11.0, 25.0\n"
          ],
          "name": "stdout"
        }
      ]
    },
    {
      "cell_type": "code",
      "metadata": {
        "id": "tLbdOsa306Dg",
        "outputId": "a62bf115-7282-4aa6-9705-02747beb0580",
        "colab": {
          "base_uri": "https://localhost:8080/"
        }
      },
      "source": [
        "# Process female_male_ratio \n",
        "print(\"Before processing: \")\n",
        "print(*data.female_male_ratio.values[ : 20], sep=\", \")\n",
        "print(\"\\n\")\n",
        "\n",
        "# Rename column name to female_ratio\n",
        "data.rename(columns={'female_male_ratio' : 'female_ratio'}, inplace=True)\n",
        "\n",
        "# Convert ratio to decimal flaoting values\n",
        "data.female_ratio = [('0.'+i[ : 2]) if isinstance(i, str) else i for i in data.female_ratio]\n",
        "data.female_ratio = [float(i) for i in data.female_ratio.values]\n",
        "\n",
        "print(\"After processing 'female_ratio': \")\n",
        "print(*data.female_ratio.values[ : 20], sep=\", \")"
      ],
      "execution_count": null,
      "outputs": [
        {
          "output_type": "stream",
          "text": [
            "Before processing: \n",
            "nan, 33 : 67, 37 : 63, 42 : 58, 45 : 55, 46 : 54, 46 : 54, 50 : 50, 37 : 63, 50 : 50, 52 : 48, 42 : 58, 50 : 50, 48 : 52, 31 : 69, 48 : 52, nan, nan, 51 : 49, 39 : 61\n",
            "\n",
            "\n",
            "After processing 'female_ratio': \n",
            "nan, 0.33, 0.37, 0.42, 0.45, 0.46, 0.46, 0.5, 0.37, 0.5, 0.52, 0.42, 0.5, 0.48, 0.31, 0.48, nan, nan, 0.51, 0.39\n"
          ],
          "name": "stdout"
        }
      ]
    },
    {
      "cell_type": "markdown",
      "metadata": {
        "id": "NNpq8_HIz0MX"
      },
      "source": [
        "This implies that the dataset consists of rankings from the years 2011-2016"
      ]
    },
    {
      "cell_type": "markdown",
      "metadata": {
        "id": "pgRTVC4AQWVC"
      },
      "source": [
        "**Convert variable values to appropriate data types**"
      ]
    },
    {
      "cell_type": "code",
      "metadata": {
        "id": "vjF1fIBGBLNz",
        "outputId": "7056de5a-c1ae-45d4-e906-2357b72090bd",
        "colab": {
          "base_uri": "https://localhost:8080/"
        }
      },
      "source": [
        "def check_col_types(df):\n",
        "  \n",
        "  \"\"\"Prints data types of all \n",
        "  values of every feature in a\n",
        "  dataframe\"\"\" \n",
        "  for col in df.columns:\n",
        "    types = set()\n",
        "    for val in df[col].values:\n",
        "      types.add(type(val))\n",
        "    print(col, ':', *types)\n",
        "\n",
        "check_col_types(data)"
      ],
      "execution_count": null,
      "outputs": [
        {
          "output_type": "stream",
          "text": [
            "world_rank : <class 'str'>\n",
            "university_name : <class 'str'>\n",
            "country : <class 'str'>\n",
            "teaching : <class 'numpy.float64'>\n",
            "international : <class 'float'> <class 'str'>\n",
            "research : <class 'numpy.float64'>\n",
            "citations : <class 'numpy.float64'>\n",
            "income : <class 'float'> <class 'str'>\n",
            "total_score : <class 'float'> <class 'str'>\n",
            "num_students : <class 'numpy.float64'>\n",
            "student_staff_ratio : <class 'numpy.float64'>\n",
            "international_students : <class 'numpy.float64'>\n",
            "female_ratio : <class 'numpy.float64'>\n",
            "year : <class 'numpy.int64'>\n"
          ],
          "name": "stdout"
        }
      ]
    },
    {
      "cell_type": "code",
      "metadata": {
        "id": "bVKo3mRjP_WF",
        "outputId": "aa60b72c-ac7e-4c45-f9ae-1ef4a935986e",
        "colab": {
          "base_uri": "https://localhost:8080/"
        }
      },
      "source": [
        "# Check what values are of type str\n",
        "print('international: ', [i for i in data.international.values[:20] if isinstance(i, str)])\n",
        "print('income:', [i for i in data.income.values[:20] if isinstance(i, str)])\n",
        "print('total_score:', [i for i in data.total_score.values[:20] if isinstance(i, str)])\n",
        "\n",
        "# Convert all str values to type float or int\n",
        "data.international = [float(i) for i in data.international.values]\n",
        "data.income = [float(i) for i in data.income.values]\n",
        "data.total_score = [float(i) for i in data.total_score.values]"
      ],
      "execution_count": null,
      "outputs": [
        {
          "output_type": "stream",
          "text": [
            "international:  ['72.4', '54.6', '82.3', '29.5', '70.3', '77.7', '77.2', '39.6', '90.0', '59.2', '48.1', '62.8', '58.5', '62.4', '93.7', '53.3', '90.9', '32.9', '39.1']\n",
            "income: ['34.5', '83.7', '87.5', '64.3', '57.0', '73.5', '92.9', '100.0', '34.7', '59.6', '43.7', '53.7']\n",
            "total_score: ['96.1', '96.0', '95.6', '94.3', '94.2', '91.2', '91.2', '91.1', '90.6', '89.5', '87.7', '86.9', '86.4', '83.9', '83.4', '83.4', '82.0', '81.0', '79.5', '79.3']\n"
          ],
          "name": "stdout"
        }
      ]
    },
    {
      "cell_type": "code",
      "metadata": {
        "id": "0W6pfa7pSSDH",
        "outputId": "8a939124-ad69-4e81-b28d-2f5d319b659c",
        "colab": {
          "base_uri": "https://localhost:8080/"
        }
      },
      "source": [
        "# Check if data types are appropriate after processing\n",
        "check_col_types(data)"
      ],
      "execution_count": null,
      "outputs": [
        {
          "output_type": "stream",
          "text": [
            "world_rank : <class 'str'>\n",
            "university_name : <class 'str'>\n",
            "country : <class 'str'>\n",
            "teaching : <class 'numpy.float64'>\n",
            "international : <class 'numpy.float64'>\n",
            "research : <class 'numpy.float64'>\n",
            "citations : <class 'numpy.float64'>\n",
            "income : <class 'numpy.float64'>\n",
            "total_score : <class 'numpy.float64'>\n",
            "num_students : <class 'numpy.float64'>\n",
            "student_staff_ratio : <class 'numpy.float64'>\n",
            "international_students : <class 'numpy.float64'>\n",
            "female_ratio : <class 'numpy.float64'>\n",
            "year : <class 'numpy.int64'>\n"
          ],
          "name": "stdout"
        }
      ]
    },
    {
      "cell_type": "code",
      "metadata": {
        "id": "tJN5UjeP8UT0",
        "outputId": "9ab5fb77-1334-47b5-c442-78467ba0d01d",
        "colab": {
          "base_uri": "https://localhost:8080/",
          "height": 320
        }
      },
      "source": [
        "data.head(6)"
      ],
      "execution_count": null,
      "outputs": [
        {
          "output_type": "execute_result",
          "data": {
            "text/html": [
              "<div>\n",
              "<style scoped>\n",
              "    .dataframe tbody tr th:only-of-type {\n",
              "        vertical-align: middle;\n",
              "    }\n",
              "\n",
              "    .dataframe tbody tr th {\n",
              "        vertical-align: top;\n",
              "    }\n",
              "\n",
              "    .dataframe thead th {\n",
              "        text-align: right;\n",
              "    }\n",
              "</style>\n",
              "<table border=\"1\" class=\"dataframe\">\n",
              "  <thead>\n",
              "    <tr style=\"text-align: right;\">\n",
              "      <th></th>\n",
              "      <th>world_rank</th>\n",
              "      <th>university_name</th>\n",
              "      <th>country</th>\n",
              "      <th>teaching</th>\n",
              "      <th>international</th>\n",
              "      <th>research</th>\n",
              "      <th>citations</th>\n",
              "      <th>income</th>\n",
              "      <th>total_score</th>\n",
              "      <th>num_students</th>\n",
              "      <th>student_staff_ratio</th>\n",
              "      <th>international_students</th>\n",
              "      <th>female_ratio</th>\n",
              "      <th>year</th>\n",
              "    </tr>\n",
              "  </thead>\n",
              "  <tbody>\n",
              "    <tr>\n",
              "      <th>0</th>\n",
              "      <td>1</td>\n",
              "      <td>Harvard University</td>\n",
              "      <td>United States of America</td>\n",
              "      <td>99.7</td>\n",
              "      <td>72.4</td>\n",
              "      <td>98.7</td>\n",
              "      <td>98.8</td>\n",
              "      <td>34.5</td>\n",
              "      <td>96.1</td>\n",
              "      <td>20152.0</td>\n",
              "      <td>8.9</td>\n",
              "      <td>25.0</td>\n",
              "      <td>NaN</td>\n",
              "      <td>2011</td>\n",
              "    </tr>\n",
              "    <tr>\n",
              "      <th>1</th>\n",
              "      <td>2</td>\n",
              "      <td>California Institute of Technology</td>\n",
              "      <td>United States of America</td>\n",
              "      <td>97.7</td>\n",
              "      <td>54.6</td>\n",
              "      <td>98.0</td>\n",
              "      <td>99.9</td>\n",
              "      <td>83.7</td>\n",
              "      <td>96.0</td>\n",
              "      <td>2243.0</td>\n",
              "      <td>6.9</td>\n",
              "      <td>27.0</td>\n",
              "      <td>0.33</td>\n",
              "      <td>2011</td>\n",
              "    </tr>\n",
              "    <tr>\n",
              "      <th>2</th>\n",
              "      <td>3</td>\n",
              "      <td>Massachusetts Institute of Technology</td>\n",
              "      <td>United States of America</td>\n",
              "      <td>97.8</td>\n",
              "      <td>82.3</td>\n",
              "      <td>91.4</td>\n",
              "      <td>99.9</td>\n",
              "      <td>87.5</td>\n",
              "      <td>95.6</td>\n",
              "      <td>11074.0</td>\n",
              "      <td>9.0</td>\n",
              "      <td>33.0</td>\n",
              "      <td>0.37</td>\n",
              "      <td>2011</td>\n",
              "    </tr>\n",
              "    <tr>\n",
              "      <th>3</th>\n",
              "      <td>4</td>\n",
              "      <td>Stanford University</td>\n",
              "      <td>United States of America</td>\n",
              "      <td>98.3</td>\n",
              "      <td>29.5</td>\n",
              "      <td>98.1</td>\n",
              "      <td>99.2</td>\n",
              "      <td>64.3</td>\n",
              "      <td>94.3</td>\n",
              "      <td>15596.0</td>\n",
              "      <td>7.8</td>\n",
              "      <td>22.0</td>\n",
              "      <td>0.42</td>\n",
              "      <td>2011</td>\n",
              "    </tr>\n",
              "    <tr>\n",
              "      <th>4</th>\n",
              "      <td>5</td>\n",
              "      <td>Princeton University</td>\n",
              "      <td>United States of America</td>\n",
              "      <td>90.9</td>\n",
              "      <td>70.3</td>\n",
              "      <td>95.4</td>\n",
              "      <td>99.9</td>\n",
              "      <td>NaN</td>\n",
              "      <td>94.2</td>\n",
              "      <td>7929.0</td>\n",
              "      <td>8.4</td>\n",
              "      <td>27.0</td>\n",
              "      <td>0.45</td>\n",
              "      <td>2011</td>\n",
              "    </tr>\n",
              "    <tr>\n",
              "      <th>5</th>\n",
              "      <td>6</td>\n",
              "      <td>University of Cambridge</td>\n",
              "      <td>United Kingdom</td>\n",
              "      <td>90.5</td>\n",
              "      <td>77.7</td>\n",
              "      <td>94.1</td>\n",
              "      <td>94.0</td>\n",
              "      <td>57.0</td>\n",
              "      <td>91.2</td>\n",
              "      <td>18812.0</td>\n",
              "      <td>11.8</td>\n",
              "      <td>34.0</td>\n",
              "      <td>0.46</td>\n",
              "      <td>2011</td>\n",
              "    </tr>\n",
              "  </tbody>\n",
              "</table>\n",
              "</div>"
            ],
            "text/plain": [
              "  world_rank                        university_name  ... female_ratio  year\n",
              "0          1                     Harvard University  ...          NaN  2011\n",
              "1          2     California Institute of Technology  ...         0.33  2011\n",
              "2          3  Massachusetts Institute of Technology  ...         0.37  2011\n",
              "3          4                    Stanford University  ...         0.42  2011\n",
              "4          5                   Princeton University  ...         0.45  2011\n",
              "5          6                University of Cambridge  ...         0.46  2011\n",
              "\n",
              "[6 rows x 14 columns]"
            ]
          },
          "metadata": {
            "tags": []
          },
          "execution_count": 1676
        }
      ]
    },
    {
      "cell_type": "markdown",
      "metadata": {
        "id": "LsknpLvKvW8P"
      },
      "source": [
        "####Handling Missing Values"
      ]
    },
    {
      "cell_type": "code",
      "metadata": {
        "id": "180L5LIHhfkz",
        "outputId": "12c5204b-6045-48da-d1d2-6865cdf1f5c1",
        "colab": {
          "base_uri": "https://localhost:8080/"
        }
      },
      "source": [
        "# Separate categorical and numerical variables\n",
        "categorical_vars = [\"world_rank\", \"university_name\", \"country\", \"year\"]\n",
        "numerical_vars = [\"teaching\", \"international\", \"research\", \"citations\", \"income\", \"total_score\", \"num_students\", \"student_staff_ratio\", \"international_students\", \"female_ratio\"] \n",
        "\n",
        "# NaN values in categorical variables\n",
        "print(\"Missing categorical values :\")\n",
        "print([data[i].isnull().sum() for i in categorical_vars])\n",
        "\n",
        "# NaN values in numerical variables\n",
        "print(\"Missing numerical values :\")\n",
        "missing_cat = [(i, data[i].isnull().sum()) for i in numerical_vars]\n",
        "print(*missing_cat, sep='\\n')\n",
        "missing_vars = [var for (var, count) in missing_cat if count!=0]\n",
        "print(\"\\nVariables with missing values: \", *missing_vars)"
      ],
      "execution_count": null,
      "outputs": [
        {
          "output_type": "stream",
          "text": [
            "Missing categorical values :\n",
            "[0, 0, 0, 0]\n",
            "Missing numerical values :\n",
            "('teaching', 0)\n",
            "('international', 9)\n",
            "('research', 0)\n",
            "('citations', 0)\n",
            "('income', 218)\n",
            "('total_score', 1402)\n",
            "('num_students', 59)\n",
            "('student_staff_ratio', 59)\n",
            "('international_students', 67)\n",
            "('female_ratio', 236)\n",
            "\n",
            "Variables with missing values:  international income total_score num_students student_staff_ratio international_students female_ratio\n"
          ],
          "name": "stdout"
        }
      ]
    },
    {
      "cell_type": "markdown",
      "metadata": {
        "id": "1LkAmkdwbhVN"
      },
      "source": [
        "Check for outliers in each variable to determine the best central tendancy measure as replacement for missing values"
      ]
    },
    {
      "cell_type": "code",
      "metadata": {
        "id": "XpgZ51NFbg1j",
        "outputId": "ae0f84f9-a5ea-4fc1-ae96-cfc077eba262",
        "colab": {
          "base_uri": "https://localhost:8080/",
          "height": 676
        }
      },
      "source": [
        "# Boxplots for numerical variables\n",
        "sns.set_theme(style=\"whitegrid\")\n",
        "plt.figure(figsize=(28, 12))\n",
        "\n",
        "for i, col in enumerate(missing_vars, 1):\n",
        "  plt.subplot(3, 3, i)\n",
        "  ax = sns.boxplot(x=data[col])"
      ],
      "execution_count": null,
      "outputs": [
        {
          "output_type": "display_data",
          "data": {
            "image/png": "[encoded data removed]",
            "text/plain": [
              "<Figure size 2016x864 with 7 Axes>"
            ]
          },
          "metadata": {
            "tags": []
          }
        }
      ]
    },
    {
      "cell_type": "markdown",
      "metadata": {
        "id": "IGfcM6aA4Q5S"
      },
      "source": [
        "`international` has only 9 missing values and has a relatively symmetric distribution about the mean. Therefore, we decide to fill in missing values with the previous value to maintain the shape of the distribution."
      ]
    },
    {
      "cell_type": "code",
      "metadata": {
        "id": "2k52EgMKnH2j"
      },
      "source": [
        "# Fill NaN in international with previous values\n",
        "data['international'] = data['international'].fillna(method='ffill').fillna(method='bfill')"
      ],
      "execution_count": null,
      "outputs": []
    },
    {
      "cell_type": "markdown",
      "metadata": {
        "id": "GKhu5gNs40uO"
      },
      "source": [
        "`num_students`,  `student_staff_ratio` and `international_students` have around 60 missing, and higly right-skewed distributions. We therefore decide to replace NaN with the median of each."
      ]
    },
    {
      "cell_type": "code",
      "metadata": {
        "id": "0jUgHR8D6aIR"
      },
      "source": [
        "# Replace missing with the median value\n",
        "data.num_students.fillna(data.num_students.median(), inplace=True)\n",
        "data.student_staff_ratio.fillna(data.student_staff_ratio.median(), inplace=True)\n",
        "data.international_students.fillna(data.international_students.median(), inplace=True)\n",
        "\n",
        "# Convert float to int now that NaN values are removed\n",
        "data.num_students = [int(i) for i in data.num_students]"
      ],
      "execution_count": null,
      "outputs": []
    },
    {
      "cell_type": "markdown",
      "metadata": {
        "id": "XvJWEFq28GcY"
      },
      "source": [
        "Both `female_ratio` and `income` have around 200 missing values. That is nearly 10% of all the instances, and the distribution is still skewed with huge outliers. Since the dataframe is ordered according to rank, we decide to impute the missing score values with the previous or next values in the feature column."
      ]
    },
    {
      "cell_type": "code",
      "metadata": {
        "id": "6xlN5ZLY8Hhd"
      },
      "source": [
        "# Replace missing values with neighbouring values\n",
        "data.female_ratio = data.female_ratio.fillna(method='ffill').fillna(method='bfill')\n",
        "data.income = data.income.fillna(method='ffill').fillna(method='bfill')"
      ],
      "execution_count": null,
      "outputs": []
    },
    {
      "cell_type": "markdown",
      "metadata": {
        "id": "hAkMG3NzrUO9"
      },
      "source": [
        "Over 54% of total_score is missing. Intuitively, `total_score` and `world_rank` establish the same correlation. Therefore, we decide to calculate the `total_score` values using the weightage method of designation of the overall score using the other scores in the dataset by the *THE*."
      ]
    },
    {
      "cell_type": "code",
      "metadata": {
        "id": "hnSg2pcGxbNg"
      },
      "source": [
        "# Replace total_score with transformation on the other score features, no resulting NaN values\n",
        "data.total_score = 0.3*data.teaching + 0.075*data.international + 0.3*data.research + 0.3*data.citations + 0.025*data.income"
      ],
      "execution_count": null,
      "outputs": []
    },
    {
      "cell_type": "code",
      "metadata": {
        "id": "TYMjqzbL-zr5",
        "outputId": "2a5fee37-24af-4edf-c2f5-6b0ab48dba87",
        "colab": {
          "base_uri": "https://localhost:8080/",
          "height": 289
        }
      },
      "source": [
        "data.head()"
      ],
      "execution_count": null,
      "outputs": [
        {
          "output_type": "execute_result",
          "data": {
            "text/html": [
              "<div>\n",
              "<style scoped>\n",
              "    .dataframe tbody tr th:only-of-type {\n",
              "        vertical-align: middle;\n",
              "    }\n",
              "\n",
              "    .dataframe tbody tr th {\n",
              "        vertical-align: top;\n",
              "    }\n",
              "\n",
              "    .dataframe thead th {\n",
              "        text-align: right;\n",
              "    }\n",
              "</style>\n",
              "<table border=\"1\" class=\"dataframe\">\n",
              "  <thead>\n",
              "    <tr style=\"text-align: right;\">\n",
              "      <th></th>\n",
              "      <th>world_rank</th>\n",
              "      <th>university_name</th>\n",
              "      <th>country</th>\n",
              "      <th>teaching</th>\n",
              "      <th>international</th>\n",
              "      <th>research</th>\n",
              "      <th>citations</th>\n",
              "      <th>income</th>\n",
              "      <th>total_score</th>\n",
              "      <th>num_students</th>\n",
              "      <th>student_staff_ratio</th>\n",
              "      <th>international_students</th>\n",
              "      <th>female_ratio</th>\n",
              "      <th>year</th>\n",
              "    </tr>\n",
              "  </thead>\n",
              "  <tbody>\n",
              "    <tr>\n",
              "      <th>0</th>\n",
              "      <td>1</td>\n",
              "      <td>Harvard University</td>\n",
              "      <td>United States of America</td>\n",
              "      <td>99.7</td>\n",
              "      <td>72.4</td>\n",
              "      <td>98.7</td>\n",
              "      <td>98.8</td>\n",
              "      <td>34.5</td>\n",
              "      <td>95.4525</td>\n",
              "      <td>20152</td>\n",
              "      <td>8.9</td>\n",
              "      <td>25.0</td>\n",
              "      <td>0.33</td>\n",
              "      <td>2011</td>\n",
              "    </tr>\n",
              "    <tr>\n",
              "      <th>1</th>\n",
              "      <td>2</td>\n",
              "      <td>California Institute of Technology</td>\n",
              "      <td>United States of America</td>\n",
              "      <td>97.7</td>\n",
              "      <td>54.6</td>\n",
              "      <td>98.0</td>\n",
              "      <td>99.9</td>\n",
              "      <td>83.7</td>\n",
              "      <td>94.8675</td>\n",
              "      <td>2243</td>\n",
              "      <td>6.9</td>\n",
              "      <td>27.0</td>\n",
              "      <td>0.33</td>\n",
              "      <td>2011</td>\n",
              "    </tr>\n",
              "    <tr>\n",
              "      <th>2</th>\n",
              "      <td>3</td>\n",
              "      <td>Massachusetts Institute of Technology</td>\n",
              "      <td>United States of America</td>\n",
              "      <td>97.8</td>\n",
              "      <td>82.3</td>\n",
              "      <td>91.4</td>\n",
              "      <td>99.9</td>\n",
              "      <td>87.5</td>\n",
              "      <td>95.0900</td>\n",
              "      <td>11074</td>\n",
              "      <td>9.0</td>\n",
              "      <td>33.0</td>\n",
              "      <td>0.37</td>\n",
              "      <td>2011</td>\n",
              "    </tr>\n",
              "    <tr>\n",
              "      <th>3</th>\n",
              "      <td>4</td>\n",
              "      <td>Stanford University</td>\n",
              "      <td>United States of America</td>\n",
              "      <td>98.3</td>\n",
              "      <td>29.5</td>\n",
              "      <td>98.1</td>\n",
              "      <td>99.2</td>\n",
              "      <td>64.3</td>\n",
              "      <td>92.5000</td>\n",
              "      <td>15596</td>\n",
              "      <td>7.8</td>\n",
              "      <td>22.0</td>\n",
              "      <td>0.42</td>\n",
              "      <td>2011</td>\n",
              "    </tr>\n",
              "    <tr>\n",
              "      <th>4</th>\n",
              "      <td>5</td>\n",
              "      <td>Princeton University</td>\n",
              "      <td>United States of America</td>\n",
              "      <td>90.9</td>\n",
              "      <td>70.3</td>\n",
              "      <td>95.4</td>\n",
              "      <td>99.9</td>\n",
              "      <td>64.3</td>\n",
              "      <td>92.7400</td>\n",
              "      <td>7929</td>\n",
              "      <td>8.4</td>\n",
              "      <td>27.0</td>\n",
              "      <td>0.45</td>\n",
              "      <td>2011</td>\n",
              "    </tr>\n",
              "  </tbody>\n",
              "</table>\n",
              "</div>"
            ],
            "text/plain": [
              "  world_rank                        university_name  ... female_ratio  year\n",
              "0          1                     Harvard University  ...         0.33  2011\n",
              "1          2     California Institute of Technology  ...         0.33  2011\n",
              "2          3  Massachusetts Institute of Technology  ...         0.37  2011\n",
              "3          4                    Stanford University  ...         0.42  2011\n",
              "4          5                   Princeton University  ...         0.45  2011\n",
              "\n",
              "[5 rows x 14 columns]"
            ]
          },
          "metadata": {
            "tags": []
          },
          "execution_count": 1683
        }
      ]
    },
    {
      "cell_type": "code",
      "metadata": {
        "id": "CX8U-iuDyOVF",
        "outputId": "a78df44e-3a47-4eae-a7d5-c6619ac0c384",
        "colab": {
          "base_uri": "https://localhost:8080/"
        }
      },
      "source": [
        "check_col_types(data)\n",
        "print(\"\\n\")\n",
        "data.isnull().sum()"
      ],
      "execution_count": null,
      "outputs": [
        {
          "output_type": "stream",
          "text": [
            "world_rank : <class 'str'>\n",
            "university_name : <class 'str'>\n",
            "country : <class 'str'>\n",
            "teaching : <class 'numpy.float64'>\n",
            "international : <class 'numpy.float64'>\n",
            "research : <class 'numpy.float64'>\n",
            "citations : <class 'numpy.float64'>\n",
            "income : <class 'numpy.float64'>\n",
            "total_score : <class 'numpy.float64'>\n",
            "num_students : <class 'numpy.int64'>\n",
            "student_staff_ratio : <class 'numpy.float64'>\n",
            "international_students : <class 'numpy.float64'>\n",
            "female_ratio : <class 'numpy.float64'>\n",
            "year : <class 'numpy.int64'>\n",
            "\n",
            "\n"
          ],
          "name": "stdout"
        },
        {
          "output_type": "execute_result",
          "data": {
            "text/plain": [
              "world_rank                0\n",
              "university_name           0\n",
              "country                   0\n",
              "teaching                  0\n",
              "international             0\n",
              "research                  0\n",
              "citations                 0\n",
              "income                    0\n",
              "total_score               0\n",
              "num_students              0\n",
              "student_staff_ratio       0\n",
              "international_students    0\n",
              "female_ratio              0\n",
              "year                      0\n",
              "dtype: int64"
            ]
          },
          "metadata": {
            "tags": []
          },
          "execution_count": 1684
        }
      ]
    },
    {
      "cell_type": "markdown",
      "metadata": {
        "id": "foKRU1NezAyx"
      },
      "source": [
        "### Data Visualization"
      ]
    },
    {
      "cell_type": "markdown",
      "metadata": {
        "id": "dEgNGevLaNce"
      },
      "source": [
        "**Observing the difference in female populations in the UK and Germany throughout the years**"
      ]
    },
    {
      "cell_type": "code",
      "metadata": {
        "id": "MiaBxOhJV2Mc",
        "outputId": "2794913c-ec8e-41e0-83cf-2dec255759b5",
        "colab": {
          "base_uri": "https://localhost:8080/",
          "height": 365
        }
      },
      "source": [
        "# Plot a histogram with both countries' university female_ratios\n",
        "data_female = data.loc[(data['country'] == 'Germany' ) | (data['country'] == 'United Kingdom')]\n",
        "ax = sns.displot(data_female,\n",
        "          x = \"female_ratio\",\n",
        "          hue = 'country')"
      ],
      "execution_count": null,
      "outputs": [
        {
          "output_type": "display_data",
          "data": {
            "image/png": "[encoded data removed]",
            "text/plain": [
              "<Figure size 488.475x360 with 1 Axes>"
            ]
          },
          "metadata": {
            "tags": []
          }
        }
      ]
    },
    {
      "cell_type": "markdown",
      "metadata": {
        "id": "pljq_hqnRmnm"
      },
      "source": [
        "We can infer from the graph that Germnay has a supposedly slightly higher female population ratio in its universities. The data that is available for the UK is greater than that for the Germany. Both averages are higher than 0.5."
      ]
    },
    {
      "cell_type": "markdown",
      "metadata": {
        "id": "L7rWsD8mxOfB"
      },
      "source": [
        "**Observing the frequency of universities featured in the top 10, grouped by country**"
      ]
    },
    {
      "cell_type": "code",
      "metadata": {
        "id": "6Kcb9k6KzylY",
        "outputId": "8a410d54-d003-469a-a3b6-5cff5f145be2",
        "colab": {
          "base_uri": "https://localhost:8080/",
          "height": 393
        }
      },
      "source": [
        "# Create a dataframe of the top 10 universities\n",
        "top_10 = [str(i) for i in range(11)]\n",
        "featured_df = data.loc[data.world_rank.isin(top_10)].loc[:, [\"university_name\", \"world_rank\", \"country\"]]\n",
        "\n",
        "# Get the frequency and countries of universities in the dataframe\n",
        "frequency = featured_df.university_name.value_counts()\n",
        "countries = list()\n",
        "for i in frequency.index.to_list():\n",
        "  countries.append(data.loc[data.university_name == i].country.iloc[0])\n",
        "\n",
        "# Plot a bargraph of frequency against university by country\n",
        "plt.figure(figsize=(6, 6))\n",
        "plt.title(\"Frequency of the Top 10 Universities by Country\")\n",
        "sns.set_theme(style=\"darkgrid\")\n",
        "fig = sns.barplot(x = frequency.values,\n",
        "                y = frequency.index.to_list(),\n",
        "                hue = countries)"
      ],
      "execution_count": null,
      "outputs": [
        {
          "output_type": "display_data",
          "data": {
            "image/png": "[encoded data removed]",
            "text/plain": [
              "<Figure size 432x432 with 1 Axes>"
            ]
          },
          "metadata": {
            "tags": []
          }
        }
      ]
    },
    {
      "cell_type": "markdown",
      "metadata": {
        "id": "VC1f7EZcG0Ma"
      },
      "source": [
        "We can infer that 8 universities were featured in the top 10 all the years the rankings were listed. Most of the universities are from the US, 3 are from the UK and ETH Zurich is from Switzerland."
      ]
    },
    {
      "cell_type": "markdown",
      "metadata": {
        "id": "_A4Kk1_4w_Nw"
      },
      "source": [
        "**Analyzing scores assigned to the top 10 universities in the year 2016**"
      ]
    },
    {
      "cell_type": "code",
      "metadata": {
        "id": "Y7p-i9gjI_5R",
        "outputId": "f3f36283-05ad-40c2-cd7d-2c2e607c4880",
        "colab": {
          "base_uri": "https://localhost:8080/",
          "height": 1000
        }
      },
      "source": [
        "# Access the top 10 universities from the year 2016\n",
        "data_top10_2016 = data.loc[data['year'] == 2016].head(10)\n",
        "data_top10_2016_univs = []\n",
        "for i in data_top10_2016['university_name']:\n",
        "  data_top10_2016_univs.append(i)\n",
        "\n",
        "# Create a tuple of titles for plots\n",
        "myTitles = tuple(data_top10_2016_univs)\n",
        "\n",
        "# Create subplots\n",
        "fig = make_subplots(rows = 2,\n",
        "                    cols = 5,\n",
        "                    subplot_titles = myTitles,\n",
        "                    specs = [[{'type':'polar'}, {'type':'polar'}, {'type':'polar'}, {'type':'polar'}, {'type':'polar'}],\n",
        "                            [{'type':'polar'}, {'type':'polar'}, {'type':'polar'}, {'type':'polar'}, {'type':'polar'}]])\n",
        "colCnt = 0\n",
        "rowCnt = 1\n",
        "modified_numeric_col = copy.deepcopy(numerical_vars)\n",
        "\n",
        "# Remove num_students because of different scale\n",
        "modified_numeric_col.remove(\"international_students\")\n",
        "modified_numeric_col.remove(\"num_students\")\n",
        "modified_numeric_col.remove(\"female_ratio\")\n",
        "modified_numeric_col.remove(\"student_staff_ratio\")\n",
        "\n",
        "# For the top 10 universities\n",
        "for j in range(len(data_top10_2016_univs)): \n",
        "  # For each university\n",
        "  data_particular_univ = data_top10_2016.iloc[j] \n",
        "  # Array for each year from which feature with lowest and highest score can be found out\n",
        "  Rvals = []\n",
        "  for k in modified_numeric_col:\n",
        "    Rvals.append(data_particular_univ[k])\n",
        "  minR = min(Rvals)\n",
        "  maxR = max(Rvals)\n",
        "  spy_df = pd.DataFrame(dict(x = [data_particular_univ[x] for x in modified_numeric_col],\n",
        "                             theta = modified_numeric_col))\n",
        "  colCnt = colCnt+1\n",
        "  if(colCnt > 5):\n",
        "    rowCnt = 2\n",
        "    colCnt = 1\n",
        "  fig.add_trace(go.Scatterpolar(r = [data_particular_univ[x] for x in modified_numeric_col],\n",
        "                            theta = modified_numeric_col,\n",
        "                            fill = 'toself'),\n",
        "                row = rowCnt,\n",
        "                col = colCnt)\n",
        "\n",
        "# Update and show plots\n",
        "fig.update_layout(height=1000, \n",
        "                width=4200, \n",
        "                title_text=\"Scores assigned to the top 10 universitites in the year 2016\\n\")\n",
        "fig.show()"
      ],
      "execution_count": null,
      "outputs": [
        {
          "output_type": "display_data",
          "data": {
            "text/html": [
              "<html>\n",
              "<head><meta charset=\"utf-8\" /></head>\n",
              "<body>\n",
              "    <div>\n",
              "            <script src=\"https://cdnjs.cloudflare.com/ajax/libs/mathjax/2.7.5/MathJax.js?config=TeX-AMS-MML_SVG\"></script><script type=\"text/javascript\">if (window.MathJax) {MathJax.Hub.Config({SVG: {font: \"STIX-Web\"}});}</script>\n",
              "                <script type=\"text/javascript\">window.PlotlyConfig = {MathJaxConfig: 'local'};</script>\n",
              "        <script src=\"https://cdn.plot.ly/plotly-latest.min.js\"></script>    \n",
              "            <div id=\"a9f7115b-e0b8-4fbd-9a0d-da751cee9820\" class=\"plotly-graph-div\" style=\"height:1000px; width:4200px;\"></div>\n",
              "            <script type=\"text/javascript\">\n",
              "                \n",
              "                    window.PLOTLYENV=window.PLOTLYENV || {};\n",
              "                    \n",
              "                if (document.getElementById(\"a9f7115b-e0b8-4fbd-9a0d-da751cee9820\")) {\n",
              "                    Plotly.newPlot(\n",
              "                        'a9f7115b-e0b8-4fbd-9a0d-da751cee9820',\n",
              "                        [{\"fill\": \"toself\", \"r\": [95.6, 64.0, 97.6, 99.8, 97.8, 95.14499999999998], \"subplot\": \"polar\", \"theta\": [\"teaching\", \"international\", \"research\", \"citations\", \"income\", \"total_score\"], \"type\": \"scatterpolar\"}, {\"fill\": \"toself\", \"r\": [86.5, 94.4, 98.9, 98.8, 73.1, 94.1675], \"subplot\": \"polar2\", \"theta\": [\"teaching\", \"international\", \"research\", \"citations\", \"income\", \"total_score\"], \"type\": \"scatterpolar\"}, {\"fill\": \"toself\", \"r\": [92.5, 76.3, 96.2, 99.9, 63.3, 93.88499999999999], \"subplot\": \"polar3\", \"theta\": [\"teaching\", \"international\", \"research\", \"citations\", \"income\", \"total_score\"], \"type\": \"scatterpolar\"}, {\"fill\": \"toself\", \"r\": [88.2, 91.5, 96.7, 97.0, 55.0, 92.80749999999999], \"subplot\": \"polar4\", \"theta\": [\"teaching\", \"international\", \"research\", \"citations\", \"income\", \"total_score\"], \"type\": \"scatterpolar\"}, {\"fill\": \"toself\", \"r\": [89.4, 84.0, 88.6, 99.7, 95.4, 91.995], \"subplot\": \"polar5\", \"theta\": [\"teaching\", \"international\", \"research\", \"citations\", \"income\", \"total_score\"], \"type\": \"scatterpolar\"}, {\"fill\": \"toself\", \"r\": [83.6, 77.2, 99.0, 99.8, 45.2, 91.63999999999999], \"subplot\": \"polar6\", \"theta\": [\"teaching\", \"international\", \"research\", \"citations\", \"income\", \"total_score\"], \"type\": \"scatterpolar\"}, {\"fill\": \"toself\", \"r\": [85.1, 78.5, 91.9, 99.3, 52.1, 90.08], \"subplot\": \"polar7\", \"theta\": [\"teaching\", \"international\", \"research\", \"citations\", \"income\", \"total_score\"], \"type\": \"scatterpolar\"}, {\"fill\": \"toself\", \"r\": [83.3, 96.0, 88.5, 96.7, 53.7, 89.0925], \"subplot\": \"polar8\", \"theta\": [\"teaching\", \"international\", \"research\", \"citations\", \"income\", \"total_score\"], \"type\": \"scatterpolar\"}, {\"fill\": \"toself\", \"r\": [77.0, 97.9, 95.0, 91.1, 80.0, 88.2725], \"subplot\": \"polar9\", \"theta\": [\"teaching\", \"international\", \"research\", \"citations\", \"income\", \"total_score\"], \"type\": \"scatterpolar\"}, {\"fill\": \"toself\", \"r\": [85.7, 65.0, 88.9, 99.2, 36.6, 87.93], \"subplot\": \"polar10\", \"theta\": [\"teaching\", \"international\", \"research\", \"citations\", \"income\", \"total_score\"], \"type\": \"scatterpolar\"}],\n",
              "                        {\"annotations\": [{\"font\": {\"size\": 16}, \"showarrow\": false, \"text\": \"California Institute of Technology\", \"x\": 0.08399999999999999, \"xanchor\": \"center\", \"xref\": \"paper\", \"y\": 1.0, \"yanchor\": \"bottom\", \"yref\": \"paper\"}, {\"font\": {\"size\": 16}, \"showarrow\": false, \"text\": \"University of Oxford\", \"x\": 0.292, \"xanchor\": \"center\", \"xref\": \"paper\", \"y\": 1.0, \"yanchor\": \"bottom\", \"yref\": \"paper\"}, {\"font\": {\"size\": 16}, \"showarrow\": false, \"text\": \"Stanford University\", \"x\": 0.5, \"xanchor\": \"center\", \"xref\": \"paper\", \"y\": 1.0, \"yanchor\": \"bottom\", \"yref\": \"paper\"}, {\"font\": {\"size\": 16}, \"showarrow\": false, \"text\": \"University of Cambridge\", \"x\": 0.708, \"xanchor\": \"center\", \"xref\": \"paper\", \"y\": 1.0, \"yanchor\": \"bottom\", \"yref\": \"paper\"}, {\"font\": {\"size\": 16}, \"showarrow\": false, \"text\": \"Massachusetts Institute of Technology\", \"x\": 0.9159999999999999, \"xanchor\": \"center\", \"xref\": \"paper\", \"y\": 1.0, \"yanchor\": \"bottom\", \"yref\": \"paper\"}, {\"font\": {\"size\": 16}, \"showarrow\": false, \"text\": \"Harvard University\", \"x\": 0.08399999999999999, \"xanchor\": \"center\", \"xref\": \"paper\", \"y\": 0.375, \"yanchor\": \"bottom\", \"yref\": \"paper\"}, {\"font\": {\"size\": 16}, \"showarrow\": false, \"text\": \"Princeton University\", \"x\": 0.292, \"xanchor\": \"center\", \"xref\": \"paper\", \"y\": 0.375, \"yanchor\": \"bottom\", \"yref\": \"paper\"}, {\"font\": {\"size\": 16}, \"showarrow\": false, \"text\": \"Imperial College London\", \"x\": 0.5, \"xanchor\": \"center\", \"xref\": \"paper\", \"y\": 0.375, \"yanchor\": \"bottom\", \"yref\": \"paper\"}, {\"font\": {\"size\": 16}, \"showarrow\": false, \"text\": \"ETH Zurich \\u2013 Swiss Federal Institute of Technology Zurich\", \"x\": 0.708, \"xanchor\": \"center\", \"xref\": \"paper\", \"y\": 0.375, \"yanchor\": \"bottom\", \"yref\": \"paper\"}, {\"font\": {\"size\": 16}, \"showarrow\": false, \"text\": \"University of Chicago\", \"x\": 0.9159999999999999, \"xanchor\": \"center\", \"xref\": \"paper\", \"y\": 0.375, \"yanchor\": \"bottom\", \"yref\": \"paper\"}], \"height\": 1000, \"polar\": {\"domain\": {\"x\": [0.0, 0.16799999999999998], \"y\": [0.625, 1.0]}}, \"polar10\": {\"domain\": {\"x\": [0.832, 1.0], \"y\": [0.0, 0.375]}}, \"polar2\": {\"domain\": {\"x\": [0.208, 0.376], \"y\": [0.625, 1.0]}}, \"polar3\": {\"domain\": {\"x\": [0.416, 0.584], \"y\": [0.625, 1.0]}}, \"polar4\": {\"domain\": {\"x\": [0.624, 0.792], \"y\": [0.625, 1.0]}}, \"polar5\": {\"domain\": {\"x\": [0.832, 1.0], \"y\": [0.625, 1.0]}}, \"polar6\": {\"domain\": {\"x\": [0.0, 0.16799999999999998], \"y\": [0.0, 0.375]}}, \"polar7\": {\"domain\": {\"x\": [0.208, 0.376], \"y\": [0.0, 0.375]}}, \"polar8\": {\"domain\": {\"x\": [0.416, 0.584], \"y\": [0.0, 0.375]}}, \"polar9\": {\"domain\": {\"x\": [0.624, 0.792], \"y\": [0.0, 0.375]}}, \"template\": {\"data\": {\"bar\": [{\"error_x\": {\"color\": \"#2a3f5f\"}, \"error_y\": {\"color\": \"#2a3f5f\"}, \"marker\": {\"line\": {\"color\": \"#E5ECF6\", \"width\": 0.5}}, \"type\": \"bar\"}], \"barpolar\": [{\"marker\": {\"line\": {\"color\": \"#E5ECF6\", \"width\": 0.5}}, \"type\": \"barpolar\"}], \"carpet\": [{\"aaxis\": {\"endlinecolor\": \"#2a3f5f\", \"gridcolor\": \"white\", \"linecolor\": \"white\", \"minorgridcolor\": \"white\", \"startlinecolor\": \"#2a3f5f\"}, \"baxis\": {\"endlinecolor\": \"#2a3f5f\", \"gridcolor\": \"white\", \"linecolor\": \"white\", \"minorgridcolor\": \"white\", \"startlinecolor\": \"#2a3f5f\"}, \"type\": \"carpet\"}], \"choropleth\": [{\"colorbar\": {\"outlinewidth\": 0, \"ticks\": \"\"}, \"type\": \"choropleth\"}], \"contour\": [{\"colorbar\": {\"outlinewidth\": 0, \"ticks\": \"\"}, \"colorscale\": [[0.0, \"#0d0887\"], [0.1111111111111111, \"#46039f\"], [0.2222222222222222, \"#7201a8\"], [0.3333333333333333, \"#9c179e\"], [0.4444444444444444, \"#bd3786\"], [0.5555555555555556, \"#d8576b\"], [0.6666666666666666, \"#ed7953\"], [0.7777777777777778, \"#fb9f3a\"], [0.8888888888888888, \"#fdca26\"], [1.0, \"#f0f921\"]], \"type\": \"contour\"}], \"contourcarpet\": [{\"colorbar\": {\"outlinewidth\": 0, \"ticks\": \"\"}, \"type\": \"contourcarpet\"}], \"heatmap\": [{\"colorbar\": {\"outlinewidth\": 0, \"ticks\": \"\"}, \"colorscale\": [[0.0, \"#0d0887\"], [0.1111111111111111, \"#46039f\"], [0.2222222222222222, \"#7201a8\"], [0.3333333333333333, \"#9c179e\"], [0.4444444444444444, \"#bd3786\"], [0.5555555555555556, \"#d8576b\"], [0.6666666666666666, \"#ed7953\"], [0.7777777777777778, \"#fb9f3a\"], [0.8888888888888888, \"#fdca26\"], [1.0, \"#f0f921\"]], \"type\": \"heatmap\"}], \"heatmapgl\": [{\"colorbar\": {\"outlinewidth\": 0, \"ticks\": \"\"}, \"colorscale\": [[0.0, \"#0d0887\"], [0.1111111111111111, \"#46039f\"], [0.2222222222222222, \"#7201a8\"], [0.3333333333333333, \"#9c179e\"], [0.4444444444444444, \"#bd3786\"], [0.5555555555555556, \"#d8576b\"], [0.6666666666666666, \"#ed7953\"], [0.7777777777777778, \"#fb9f3a\"], [0.8888888888888888, \"#fdca26\"], [1.0, \"#f0f921\"]], \"type\": \"heatmapgl\"}], \"histogram\": [{\"marker\": {\"colorbar\": {\"outlinewidth\": 0, \"ticks\": \"\"}}, \"type\": \"histogram\"}], \"histogram2d\": [{\"colorbar\": {\"outlinewidth\": 0, \"ticks\": \"\"}, \"colorscale\": [[0.0, \"#0d0887\"], [0.1111111111111111, \"#46039f\"], [0.2222222222222222, \"#7201a8\"], [0.3333333333333333, \"#9c179e\"], [0.4444444444444444, \"#bd3786\"], [0.5555555555555556, \"#d8576b\"], [0.6666666666666666, \"#ed7953\"], [0.7777777777777778, \"#fb9f3a\"], [0.8888888888888888, \"#fdca26\"], [1.0, \"#f0f921\"]], \"type\": \"histogram2d\"}], \"histogram2dcontour\": [{\"colorbar\": {\"outlinewidth\": 0, \"ticks\": \"\"}, \"colorscale\": [[0.0, \"#0d0887\"], [0.1111111111111111, \"#46039f\"], [0.2222222222222222, \"#7201a8\"], [0.3333333333333333, \"#9c179e\"], [0.4444444444444444, \"#bd3786\"], [0.5555555555555556, \"#d8576b\"], [0.6666666666666666, \"#ed7953\"], [0.7777777777777778, \"#fb9f3a\"], [0.8888888888888888, \"#fdca26\"], [1.0, \"#f0f921\"]], \"type\": \"histogram2dcontour\"}], \"mesh3d\": [{\"colorbar\": {\"outlinewidth\": 0, \"ticks\": \"\"}, \"type\": \"mesh3d\"}], \"parcoords\": [{\"line\": {\"colorbar\": {\"outlinewidth\": 0, \"ticks\": \"\"}}, \"type\": \"parcoords\"}], \"pie\": [{\"automargin\": true, \"type\": \"pie\"}], \"scatter\": [{\"marker\": {\"colorbar\": {\"outlinewidth\": 0, \"ticks\": \"\"}}, \"type\": \"scatter\"}], \"scatter3d\": [{\"line\": {\"colorbar\": {\"outlinewidth\": 0, \"ticks\": \"\"}}, \"marker\": {\"colorbar\": {\"outlinewidth\": 0, \"ticks\": \"\"}}, \"type\": \"scatter3d\"}], \"scattercarpet\": [{\"marker\": {\"colorbar\": {\"outlinewidth\": 0, \"ticks\": \"\"}}, \"type\": \"scattercarpet\"}], \"scattergeo\": [{\"marker\": {\"colorbar\": {\"outlinewidth\": 0, \"ticks\": \"\"}}, \"type\": \"scattergeo\"}], \"scattergl\": [{\"marker\": {\"colorbar\": {\"outlinewidth\": 0, \"ticks\": \"\"}}, \"type\": \"scattergl\"}], \"scattermapbox\": [{\"marker\": {\"colorbar\": {\"outlinewidth\": 0, \"ticks\": \"\"}}, \"type\": \"scattermapbox\"}], \"scatterpolar\": [{\"marker\": {\"colorbar\": {\"outlinewidth\": 0, \"ticks\": \"\"}}, \"type\": \"scatterpolar\"}], \"scatterpolargl\": [{\"marker\": {\"colorbar\": {\"outlinewidth\": 0, \"ticks\": \"\"}}, \"type\": \"scatterpolargl\"}], \"scatterternary\": [{\"marker\": {\"colorbar\": {\"outlinewidth\": 0, \"ticks\": \"\"}}, \"type\": \"scatterternary\"}], \"surface\": [{\"colorbar\": {\"outlinewidth\": 0, \"ticks\": \"\"}, \"colorscale\": [[0.0, \"#0d0887\"], [0.1111111111111111, \"#46039f\"], [0.2222222222222222, \"#7201a8\"], [0.3333333333333333, \"#9c179e\"], [0.4444444444444444, \"#bd3786\"], [0.5555555555555556, \"#d8576b\"], [0.6666666666666666, \"#ed7953\"], [0.7777777777777778, \"#fb9f3a\"], [0.8888888888888888, \"#fdca26\"], [1.0, \"#f0f921\"]], \"type\": \"surface\"}], \"table\": [{\"cells\": {\"fill\": {\"color\": \"#EBF0F8\"}, \"line\": {\"color\": \"white\"}}, \"header\": {\"fill\": {\"color\": \"#C8D4E3\"}, \"line\": {\"color\": \"white\"}}, \"type\": \"table\"}]}, \"layout\": {\"annotationdefaults\": {\"arrowcolor\": \"#2a3f5f\", \"arrowhead\": 0, \"arrowwidth\": 1}, \"coloraxis\": {\"colorbar\": {\"outlinewidth\": 0, \"ticks\": \"\"}}, \"colorscale\": {\"diverging\": [[0, \"#8e0152\"], [0.1, \"#c51b7d\"], [0.2, \"#de77ae\"], [0.3, \"#f1b6da\"], [0.4, \"#fde0ef\"], [0.5, \"#f7f7f7\"], [0.6, \"#e6f5d0\"], [0.7, \"#b8e186\"], [0.8, \"#7fbc41\"], [0.9, \"#4d9221\"], [1, \"#276419\"]], \"sequential\": [[0.0, \"#0d0887\"], [0.1111111111111111, \"#46039f\"], [0.2222222222222222, \"#7201a8\"], [0.3333333333333333, \"#9c179e\"], [0.4444444444444444, \"#bd3786\"], [0.5555555555555556, \"#d8576b\"], [0.6666666666666666, \"#ed7953\"], [0.7777777777777778, \"#fb9f3a\"], [0.8888888888888888, \"#fdca26\"], [1.0, \"#f0f921\"]], \"sequentialminus\": [[0.0, \"#0d0887\"], [0.1111111111111111, \"#46039f\"], [0.2222222222222222, \"#7201a8\"], [0.3333333333333333, \"#9c179e\"], [0.4444444444444444, \"#bd3786\"], [0.5555555555555556, \"#d8576b\"], [0.6666666666666666, \"#ed7953\"], [0.7777777777777778, \"#fb9f3a\"], [0.8888888888888888, \"#fdca26\"], [1.0, \"#f0f921\"]]}, \"colorway\": [\"#636efa\", \"#EF553B\", \"#00cc96\", \"#ab63fa\", \"#FFA15A\", \"#19d3f3\", \"#FF6692\", \"#B6E880\", \"#FF97FF\", \"#FECB52\"], \"font\": {\"color\": \"#2a3f5f\"}, \"geo\": {\"bgcolor\": \"white\", \"lakecolor\": \"white\", \"landcolor\": \"#E5ECF6\", \"showlakes\": true, \"showland\": true, \"subunitcolor\": \"white\"}, \"hoverlabel\": {\"align\": \"left\"}, \"hovermode\": \"closest\", \"mapbox\": {\"style\": \"light\"}, \"paper_bgcolor\": \"white\", \"plot_bgcolor\": \"#E5ECF6\", \"polar\": {\"angularaxis\": {\"gridcolor\": \"white\", \"linecolor\": \"white\", \"ticks\": \"\"}, \"bgcolor\": \"#E5ECF6\", \"radialaxis\": {\"gridcolor\": \"white\", \"linecolor\": \"white\", \"ticks\": \"\"}}, \"scene\": {\"xaxis\": {\"backgroundcolor\": \"#E5ECF6\", \"gridcolor\": \"white\", \"gridwidth\": 2, \"linecolor\": \"white\", \"showbackground\": true, \"ticks\": \"\", \"zerolinecolor\": \"white\"}, \"yaxis\": {\"backgroundcolor\": \"#E5ECF6\", \"gridcolor\": \"white\", \"gridwidth\": 2, \"linecolor\": \"white\", \"showbackground\": true, \"ticks\": \"\", \"zerolinecolor\": \"white\"}, \"zaxis\": {\"backgroundcolor\": \"#E5ECF6\", \"gridcolor\": \"white\", \"gridwidth\": 2, \"linecolor\": \"white\", \"showbackground\": true, \"ticks\": \"\", \"zerolinecolor\": \"white\"}}, \"shapedefaults\": {\"line\": {\"color\": \"#2a3f5f\"}}, \"ternary\": {\"aaxis\": {\"gridcolor\": \"white\", \"linecolor\": \"white\", \"ticks\": \"\"}, \"baxis\": {\"gridcolor\": \"white\", \"linecolor\": \"white\", \"ticks\": \"\"}, \"bgcolor\": \"#E5ECF6\", \"caxis\": {\"gridcolor\": \"white\", \"linecolor\": \"white\", \"ticks\": \"\"}}, \"title\": {\"x\": 0.05}, \"xaxis\": {\"automargin\": true, \"gridcolor\": \"white\", \"linecolor\": \"white\", \"ticks\": \"\", \"title\": {\"standoff\": 15}, \"zerolinecolor\": \"white\", \"zerolinewidth\": 2}, \"yaxis\": {\"automargin\": true, \"gridcolor\": \"white\", \"linecolor\": \"white\", \"ticks\": \"\", \"title\": {\"standoff\": 15}, \"zerolinecolor\": \"white\", \"zerolinewidth\": 2}}}, \"title\": {\"text\": \"Scores assigned to the top 10 universitites in the year 2016\\n\"}, \"width\": 4200},\n",
              "                        {\"responsive\": true}\n",
              "                    ).then(function(){\n",
              "                            \n",
              "var gd = document.getElementById('a9f7115b-e0b8-4fbd-9a0d-da751cee9820');\n",
              "var x = new MutationObserver(function (mutations, observer) {{\n",
              "        var display = window.getComputedStyle(gd).display;\n",
              "        if (!display || display === 'none') {{\n",
              "            console.log([gd, 'removed!']);\n",
              "            Plotly.purge(gd);\n",
              "            observer.disconnect();\n",
              "        }}\n",
              "}});\n",
              "\n",
              "// Listen for the removal of the full notebook cells\n",
              "var notebookContainer = gd.closest('#notebook-container');\n",
              "if (notebookContainer) {{\n",
              "    x.observe(notebookContainer, {childList: true});\n",
              "}}\n",
              "\n",
              "// Listen for the clearing of the current output cell\n",
              "var outputEl = gd.closest('.output');\n",
              "if (outputEl) {{\n",
              "    x.observe(outputEl, {childList: true});\n",
              "}}\n",
              "\n",
              "                        })\n",
              "                };\n",
              "                \n",
              "            </script>\n",
              "        </div>\n",
              "</body>\n",
              "</html>"
            ]
          },
          "metadata": {
            "tags": []
          }
        }
      ]
    },
    {
      "cell_type": "markdown",
      "metadata": {
        "id": "EXuSMhUVYyv8"
      },
      "source": [
        "We can infer from the obtained plots that many colleges have relatively lower scores of income. Income scores are very high for CalTech and MIT, as expected. All universities have very higher citation and research scores, meaning they all contribute extremely well to the scientific world. European universities are seen to have higher international scores. "
      ]
    },
    {
      "cell_type": "markdown",
      "metadata": {
        "id": "sEFUW1I3UKR7"
      },
      "source": [
        "### Normalization and Standardization"
      ]
    },
    {
      "cell_type": "markdown",
      "metadata": {
        "id": "TxfSU4s90unA"
      },
      "source": [
        "**Mean and variance of each feature column**"
      ]
    },
    {
      "cell_type": "code",
      "metadata": {
        "id": "67dnVFRGqJd7",
        "outputId": "71422a5a-13c2-4d7e-9c0d-2837d1555d0e",
        "colab": {
          "base_uri": "https://localhost:8080/"
        }
      },
      "source": [
        "def ColumnsMeanFinder(data):\n",
        "  \n",
        "  '''Print the mean of every column'''\n",
        "  col_means = data.mean(axis = 0)\n",
        "  print(col_means)\n",
        "\n",
        "ColumnsMeanFinder(data)"
      ],
      "execution_count": null,
      "outputs": [
        {
          "output_type": "stream",
          "text": [
            "teaching                     37.801498\n",
            "international                52.013484\n",
            "research                     35.910257\n",
            "citations                    60.921629\n",
            "income                       49.039800\n",
            "total_score                  45.517022\n",
            "num_students              23805.244333\n",
            "student_staff_ratio          18.392124\n",
            "international_students       15.381099\n",
            "female_ratio                  0.496681\n",
            "year                       2014.075682\n",
            "dtype: float64\n"
          ],
          "name": "stdout"
        }
      ]
    },
    {
      "cell_type": "code",
      "metadata": {
        "id": "FjUB5Fj-VdIR",
        "outputId": "4907aa56-3ecc-4042-e5d6-e1890beb8528",
        "colab": {
          "base_uri": "https://localhost:8080/"
        }
      },
      "source": [
        "def ColumnVarFinder(data):\n",
        "  \n",
        "  '''Print the variance of each column'''\n",
        "  col_vars = data.var()\n",
        "  print(col_vars)\n",
        "\n",
        "ColumnVarFinder(data)"
      ],
      "execution_count": null,
      "outputs": [
        {
          "output_type": "stream",
          "text": [
            "teaching                  3.099085e+02\n",
            "international             4.883810e+02\n",
            "research                  4.517667e+02\n",
            "citations                 5.323734e+02\n",
            "income                    4.507805e+02\n",
            "total_score               2.842290e+02\n",
            "num_students              3.055571e+08\n",
            "student_staff_ratio       1.284464e+02\n",
            "international_students    1.094404e+02\n",
            "female_ratio              1.166354e-02\n",
            "year                      2.841695e+00\n",
            "dtype: float64\n"
          ],
          "name": "stdout"
        }
      ]
    },
    {
      "cell_type": "markdown",
      "metadata": {
        "id": "MfwCLwfK1WFr"
      },
      "source": [
        "**Normalizing (max-min scaling) all numerical feature values**"
      ]
    },
    {
      "cell_type": "markdown",
      "metadata": {
        "id": "rMq-zrYI189P"
      },
      "source": [
        "Observe the unnormalized data and then the normalized data using bar charts for better understanding"
      ]
    },
    {
      "cell_type": "code",
      "metadata": {
        "id": "fg0GDeEwXKff",
        "outputId": "f78f9315-72b8-4963-bd1a-a51a8ff31f6c",
        "colab": {
          "base_uri": "https://localhost:8080/"
        }
      },
      "source": [
        "numeric_cols = numerical_vars\n",
        "\n",
        "# Print out the max and min values of each numeric feature\n",
        "print(\"Before Normalization:\")\n",
        "for i in numeric_cols:\n",
        "  print(\"For \" + i + \":\\nMax value: \" + str(data[i].max()) + \" Min value: \" + str(data[i].min()))\n",
        "\n",
        "def normalize(data, numeric_cols):\n",
        "\n",
        "  '''Normalize each numeric feature column \n",
        "    passed into the function'''\n",
        "  for i in numeric_cols:\n",
        "    col_mean = data[i].mean()\n",
        "    minVal = data[i].min()\n",
        "    maxVal = data[i].max()\n",
        "    range = maxVal - minVal\n",
        "    data[i] = (data[i] - minVal) / range\n",
        "\n",
        "# Normalize all numeric columns in the dataframe\n",
        "normalize(data, numeric_cols)\n",
        "\n",
        "# Observe max and min values after normalization\n",
        "print(\"\\nAfter Normalization\")\n",
        "for i in numeric_cols:\n",
        "  print(\"For \" + i + \":\\nMax value: \" + str(data[i].max()) + \" Min value: \" + str(data[i].min()))"
      ],
      "execution_count": null,
      "outputs": [
        {
          "output_type": "stream",
          "text": [
            "Before Normalization:\n",
            "For teaching:\n",
            "Max value: 99.7 Min value: 9.9\n",
            "For international:\n",
            "Max value: 100.0 Min value: 7.1\n",
            "For research:\n",
            "Max value: 99.4 Min value: 2.9\n",
            "For citations:\n",
            "Max value: 100.0 Min value: 1.2\n",
            "For income:\n",
            "Max value: 100.0 Min value: 24.2\n",
            "For total_score:\n",
            "Max value: 95.495 Min value: 14.040000000000001\n",
            "For num_students:\n",
            "Max value: 379231 Min value: 462\n",
            "For student_staff_ratio:\n",
            "Max value: 162.6 Min value: 0.6\n",
            "For international_students:\n",
            "Max value: 82.0 Min value: 0.0\n",
            "For female_ratio:\n",
            "Max value: 0.9 Min value: 0.1\n",
            "\n",
            "After Normalization\n",
            "For teaching:\n",
            "Max value: 1.0 Min value: 0.0\n",
            "For international:\n",
            "Max value: 1.0 Min value: 0.0\n",
            "For research:\n",
            "Max value: 1.0 Min value: 0.0\n",
            "For citations:\n",
            "Max value: 1.0 Min value: 0.0\n",
            "For income:\n",
            "Max value: 1.0 Min value: 0.0\n",
            "For total_score:\n",
            "Max value: 1.0 Min value: 0.0\n",
            "For num_students:\n",
            "Max value: 1.0 Min value: 0.0\n",
            "For student_staff_ratio:\n",
            "Max value: 1.0 Min value: 0.0\n",
            "For international_students:\n",
            "Max value: 1.0 Min value: 0.0\n",
            "For female_ratio:\n",
            "Max value: 1.0 Min value: 0.0\n"
          ],
          "name": "stdout"
        }
      ]
    },
    {
      "cell_type": "code",
      "metadata": {
        "id": "RmtytWwmYGt3",
        "outputId": "cda3adb5-ca0c-4a93-a5f5-5fd495f38270",
        "colab": {
          "base_uri": "https://localhost:8080/"
        }
      },
      "source": [
        "# Observe each column mean and variance again\n",
        "print(\"Means:\")\n",
        "ColumnsMeanFinder(data)\n",
        "print(\"\\nVariance:\")\n",
        "ColumnVarFinder(data)"
      ],
      "execution_count": null,
      "outputs": [
        {
          "output_type": "stream",
          "text": [
            "Means:\n",
            "teaching                     0.310707\n",
            "international                0.483461\n",
            "research                     0.342075\n",
            "citations                    0.604470\n",
            "income                       0.327702\n",
            "total_score                  0.386434\n",
            "num_students                 0.061629\n",
            "student_staff_ratio          0.109828\n",
            "international_students       0.187574\n",
            "female_ratio                 0.495851\n",
            "year                      2014.075682\n",
            "dtype: float64\n",
            "\n",
            "Variance:\n",
            "teaching                  0.038431\n",
            "international             0.056588\n",
            "research                  0.048513\n",
            "citations                 0.054538\n",
            "income                    0.078456\n",
            "total_score               0.042838\n",
            "num_students              0.002130\n",
            "student_staff_ratio       0.004894\n",
            "international_students    0.016276\n",
            "female_ratio              0.018224\n",
            "year                      2.841695\n",
            "dtype: float64\n"
          ],
          "name": "stdout"
        }
      ]
    },
    {
      "cell_type": "markdown",
      "metadata": {
        "id": "r5srkj46qFn-"
      },
      "source": [
        "> **Why is normalization necessary?**<br>It is done in order to bring all the values of a numeric column in the data set to a common scale between 0 and 1. Normalization does so without altering differences in the ranges of values in each column. Transforming every numeric column to a common scale facilitates better comparision, visualization and faster learning the relationships among feature columns."
      ]
    },
    {
      "cell_type": "markdown",
      "metadata": {
        "id": "nCtZkpMDXMg2"
      },
      "source": [
        "**Supplementary Functions**"
      ]
    },
    {
      "cell_type": "code",
      "metadata": {
        "id": "pARSoVC0CQLp"
      },
      "source": [
        "def log_transform(data, columns):\n",
        "\n",
        "  '''Transform skewed data with the \n",
        "  log transformation for a more\n",
        "  normal distribution'''\n",
        "  for col in columns:\n",
        "    data[col] = np.where(data[col] > 0, data[col], 0.0000000001)\n",
        "    data[col] = np.where(data[col] > 0.0000000001, np.log(data[col]), 0)\n",
        "\n",
        "#Square root positively skewed data like research\n",
        "def squareRootCol(data,colNames):\n",
        "  for i in colNames:\n",
        "    data[i] = np.sqrt(data[i])\n",
        "\n",
        "def squareCol(data,colNames):\n",
        "  for i in colNames:\n",
        "    data[i] = np.square(data[i]) \n",
        "\n",
        "# Standardizing the data\n",
        "import statistics\n",
        "def standardize(data, numeric_cols):\n",
        "\n",
        "  '''Normalize each numeric feature column \n",
        "    passed into the function'''\n",
        "  for i in numeric_cols:\n",
        "    col_mean = data[i].mean()\n",
        "    col_std = np.std(data[i])\n",
        "    data[i] = (data[i] - col_mean) / col_std\n",
        "\n",
        "skewed_cols = ['num_students', 'international_students', 'student_staff_ratio','citations']"
      ],
      "execution_count": null,
      "outputs": []
    },
    {
      "cell_type": "markdown",
      "metadata": {
        "id": "tfCNv0zgAV0z"
      },
      "source": [
        "**Visualizing normalized features**"
      ]
    },
    {
      "cell_type": "code",
      "metadata": {
        "id": "S5uiKeIQ7xoO",
        "outputId": "926b6a62-7745-4f80-bda6-95775a0e8aa2",
        "colab": {
          "base_uri": "https://localhost:8080/",
          "height": 695
        }
      },
      "source": [
        "# Histograms for numerical variables\n",
        "fig, axes = plt.subplots(2, 5, figsize=(27, 12))\n",
        "axes = axes.ravel() \n",
        "\n",
        "for id in range(len(numerical_vars)):\n",
        "  col = numerical_vars[id]\n",
        "  sns.histplot(data, x=col, color=\"dodgerblue\", kde=True, ax=axes[id])\n",
        "  axes[id].set_title(\"Normalized \"+col)"
      ],
      "execution_count": null,
      "outputs": [
        {
          "output_type": "display_data",
          "data": {
            "image/png": "[encoded data removed]",
            "text/plain": [
              "<Figure size 1944x864 with 10 Axes>"
            ]
          },
          "metadata": {
            "tags": []
          }
        }
      ]
    },
    {
      "cell_type": "markdown",
      "metadata": {
        "id": "sdd2qtexS6UE"
      },
      "source": [
        "### Statistical Hypothesis Testing"
      ]
    },
    {
      "cell_type": "markdown",
      "metadata": {
        "id": "Qv5KtQddo2of"
      },
      "source": [
        "**Research Problem Statement** : *Is the average percentage of international students in UK universities higher than that in the US?*"
      ]
    },
    {
      "cell_type": "markdown",
      "metadata": {
        "id": "n4kiTTljXnQO"
      },
      "source": [
        "> ***Null hypothesis***<br>There is no difference between the average percentage of US and UK university students who are of international origin over the years.<br><br>***Alternative hypothesis***<br>The average percentage of UK university students who are of international origin over the years, is higher than in the US.\n",
        "\n"
      ]
    },
    {
      "cell_type": "markdown",
      "metadata": {
        "id": "rIMoXMuC8eS8"
      },
      "source": [
        "**Mathematical Representation:**\n",
        "\n",
        "\n",
        "> $x :$ Set of UK international_students<br>$y :$ Set of US international_students<br><br>$H_o : \\mu_x = \\mu_y$<br>$H_1 : \\mu_x > \\mu_y$\n",
        "\n"
      ]
    },
    {
      "cell_type": "markdown",
      "metadata": {
        "id": "omEIjolIgCBJ"
      },
      "source": [
        "**Graphical Depiction**"
      ]
    },
    {
      "cell_type": "code",
      "metadata": {
        "id": "KY50vfMJMMeJ",
        "outputId": "5e87ada1-8c23-419f-cdc7-aeed29839fba",
        "colab": {
          "base_uri": "https://localhost:8080/",
          "height": 355
        }
      },
      "source": [
        "dataUS = data.loc[data['country'] == 'United States of America']\n",
        "dataUK = data.loc[data['country'] == 'United Kingdom']\n",
        "\n",
        "interUS = dataUS['international_students']\n",
        "interUK = dataUK['international_students']\n",
        "\n",
        "fig, axes = plt.subplots(1, 3, figsize=(21, 5))\n",
        "axes = axes.ravel() \n",
        "\n",
        "sns.histplot(data, x=interUS, color=\"dodgerblue\", kde=True, ax=axes[0])\n",
        "ax0 = axes[0].set_title(\"International Population in US Universities\")\n",
        "sns.histplot(data, x=interUK, color=\"dodgerblue\", kde=True, ax=axes[1])\n",
        "ax1 = axes[1].set_title(\"International Population in UK Universities\")\n",
        "sns.boxplot(data=data.loc[data.country.isin(['United States of America', 'United Kingdom'])],\n",
        "           x='country',\n",
        "           y='international_students',\n",
        "           ax=axes[2])\n",
        "ax1 = axes[2].set_title(\"Distribution of International Populations\")"
      ],
      "execution_count": null,
      "outputs": [
        {
          "output_type": "display_data",
          "data": {
            "image/png": "[encoded data removed]",
            "text/plain": [
              "<Figure size 1512x360 with 3 Axes>"
            ]
          },
          "metadata": {
            "tags": []
          }
        }
      ]
    },
    {
      "cell_type": "markdown",
      "metadata": {
        "id": "HM-JIewDhI1D"
      },
      "source": [
        "**Measuring statistical significance of the observed results using the Welch t-test**"
      ]
    },
    {
      "cell_type": "markdown",
      "metadata": {
        "id": "jtb67XYF7z-Y"
      },
      "source": [
        "The samples here are the measured observations of international_students of the countries US and UK. They are drawn independently and the means, variances and sample sizes are calculated below."
      ]
    },
    {
      "cell_type": "code",
      "metadata": {
        "id": "o4cN3JFoYGtH"
      },
      "source": [
        "# Set the statistical significance (alpha) for the test\n",
        "alpha = 0.005"
      ],
      "execution_count": null,
      "outputs": []
    },
    {
      "cell_type": "code",
      "metadata": {
        "id": "Rfsn_--thFGg",
        "outputId": "bde983ef-5194-4455-97a5-fbf4fd7bf893",
        "colab": {
          "base_uri": "https://localhost:8080/"
        }
      },
      "source": [
        "# Calculate the length of each feature vector\n",
        "sizeUS = len(interUS)\n",
        "sizeUK = len(interUK)\n",
        "\n",
        "# Observe that sample sizes are different\n",
        "print('Sample sizes: US = {}, UK = {}'.format(sizeUS, sizeUK))"
      ],
      "execution_count": null,
      "outputs": [
        {
          "output_type": "stream",
          "text": [
            "Sample sizes: US = 659, UK = 300\n"
          ],
          "name": "stdout"
        }
      ]
    },
    {
      "cell_type": "code",
      "metadata": {
        "id": "96Art6ImUxq5",
        "outputId": "3c72fe1d-242d-475a-f046-5d90e2044818",
        "colab": {
          "base_uri": "https://localhost:8080/"
        }
      },
      "source": [
        "# Calculate means of both samples\n",
        "meanUS = interUS.mean()\n",
        "meanUK = interUK.mean()\n",
        "\n",
        "# Calculate variance of both samples\n",
        "varUS = interUS.var()\n",
        "varUK = interUK.var()\n",
        "\n",
        "# Observe that the variances are unequal\n",
        "print('Sample means: US = {}, UK = {}'.format(meanUS, meanUK))\n",
        "print('Sample variance: US = {}, UK = {}'.format(varUS, varUK))"
      ],
      "execution_count": null,
      "outputs": [
        {
          "output_type": "stream",
          "text": [
            "Sample means: US = 0.16743772900551437, UK = 0.3550813008130085\n",
            "Sample variance: US = 0.006994389532519845, UK = 0.012567629092148647\n"
          ],
          "name": "stdout"
        }
      ]
    },
    {
      "cell_type": "markdown",
      "metadata": {
        "id": "xYy1lza_6qfO"
      },
      "source": [
        "The sample sizes are different. These are unequal samples and therefore cannot be subjected to the Student's t-test. The Student's t-test assumes sample sizes and variances to be equal and here, this is not the case.\n",
        "\n",
        "Since both sample sizes are large (> 30), the means are both approximately\n",
        "normally distributed. The samples are independent, and therefore the null\n",
        "distribution of the difference of the means follows a normal distribution.\n",
        "\n",
        "The condition for normal distribution is satisfied and we decide to use the Welsh t-test, which performs better when sample sizes and variances are unequal."
      ]
    },
    {
      "cell_type": "markdown",
      "metadata": {
        "id": "EzThUyVKWr8P"
      },
      "source": [
        "The t-score is calculated using, <br><br>\n",
        "$t_{score} = \\frac {\\bar {X}_1 - \\bar {X}_2} {s_{Welch}}$<br><br>where $\\bar {X}_1 - \\bar {X}_2$ is the difference of sample means, and, <br><br>\n",
        "$s_{Welch}  = \\sqrt{\\frac{s^2_1} {n_1}+\\frac{s^2_2} {n_2}}$"
      ]
    },
    {
      "cell_type": "code",
      "metadata": {
        "id": "6m2eA_r-7LrC",
        "outputId": "59eb5876-566a-4672-c096-946ab71d4b99",
        "colab": {
          "base_uri": "https://localhost:8080/"
        }
      },
      "source": [
        "# Find the p value from Welch t-test\n",
        "t_score = stats.ttest_ind_from_stats(interUS.mean(), interUS.std(), interUS.shape[0],\n",
        "                                   interUK.mean(), interUK.std(), interUK.shape[0],\n",
        "                                   equal_var=False)\n",
        "\n",
        "# one-sided p value is half of the returned two-sided p value\n",
        "p_value = t_score.pvalue / 2\n",
        "print(t_score.statistic, p_value)"
      ],
      "execution_count": null,
      "outputs": [
        {
          "output_type": "stream",
          "text": [
            "-25.89585812291491 6.279645983215036e-92\n"
          ],
          "name": "stdout"
        }
      ]
    },
    {
      "cell_type": "code",
      "metadata": {
        "id": "Itj3vF2vYWrr",
        "outputId": "38307509-fc6e-4680-f326-b5b6cb66331f",
        "colab": {
          "base_uri": "https://localhost:8080/"
        }
      },
      "source": [
        "# Either reject or fail to reject the null hypothesis using p value \n",
        "if p_value < alpha:\n",
        "  print('Null hypothesis has enough evidence to be rejected.\\n Null hypothesis rejected.')\n",
        "else:\n",
        "  print('Null hypothesis does not have enough evidence to be rejected.\\n Failed to reject null hypothesis.')"
      ],
      "execution_count": null,
      "outputs": [
        {
          "output_type": "stream",
          "text": [
            "Null hypothesis has enough evidence to be rejected.\n",
            " Null hypothesis rejected.\n"
          ],
          "name": "stdout"
        }
      ]
    },
    {
      "cell_type": "markdown",
      "metadata": {
        "id": "pSjROz0eZ3o8"
      },
      "source": [
        "$ p < 0.005 $\n",
        "\n",
        "Since our p value was far lesser than the statistical significance value, we can reliably reject the null hypothesis, in favour of the alternative.\n",
        "\n",
        "Additionally, we obtained a negative t-test statistic score, which implies that the mean of international students in UK universities is greater than in US universities.\n",
        "\n",
        "We reject $H_o : \\mu_x = \\mu_y$  , where<br><br>$x :$Set of UK international_students<br>$y :$ Set of US international_students"
      ]
    },
    {
      "cell_type": "markdown",
      "metadata": {
        "id": "HQs4az1COvej"
      },
      "source": [
        "### Correlation"
      ]
    },
    {
      "cell_type": "code",
      "metadata": {
        "id": "hnkQ0Spgr470",
        "outputId": "fad874eb-5956-4c9b-ca65-36594afb7414",
        "colab": {
          "base_uri": "https://localhost:8080/",
          "height": 1000
        }
      },
      "source": [
        "# Table for the pair-wise correlation of features x and y\n",
        "corr_data = pg.pairwise_corr(data,columns=numerical_vars)\n",
        "corr_data"
      ],
      "execution_count": null,
      "outputs": [
        {
          "output_type": "execute_result",
          "data": {
            "text/html": [
              "<div>\n",
              "<style scoped>\n",
              "    .dataframe tbody tr th:only-of-type {\n",
              "        vertical-align: middle;\n",
              "    }\n",
              "\n",
              "    .dataframe tbody tr th {\n",
              "        vertical-align: top;\n",
              "    }\n",
              "\n",
              "    .dataframe thead th {\n",
              "        text-align: right;\n",
              "    }\n",
              "</style>\n",
              "<table border=\"1\" class=\"dataframe\">\n",
              "  <thead>\n",
              "    <tr style=\"text-align: right;\">\n",
              "      <th></th>\n",
              "      <th>X</th>\n",
              "      <th>Y</th>\n",
              "      <th>method</th>\n",
              "      <th>tail</th>\n",
              "      <th>n</th>\n",
              "      <th>r</th>\n",
              "      <th>CI95%</th>\n",
              "      <th>r2</th>\n",
              "      <th>adj_r2</th>\n",
              "      <th>z</th>\n",
              "      <th>p-unc</th>\n",
              "      <th>BF10</th>\n",
              "      <th>power</th>\n",
              "    </tr>\n",
              "  </thead>\n",
              "  <tbody>\n",
              "    <tr>\n",
              "      <th>0</th>\n",
              "      <td>teaching</td>\n",
              "      <td>international</td>\n",
              "      <td>pearson</td>\n",
              "      <td>two-sided</td>\n",
              "      <td>2603</td>\n",
              "      <td>0.139012</td>\n",
              "      <td>[0.1, 0.18]</td>\n",
              "      <td>0.019324</td>\n",
              "      <td>0.018570</td>\n",
              "      <td>0.139918</td>\n",
              "      <td>1.051986e-12</td>\n",
              "      <td>2.529e+09</td>\n",
              "      <td>1.000000</td>\n",
              "    </tr>\n",
              "    <tr>\n",
              "      <th>1</th>\n",
              "      <td>teaching</td>\n",
              "      <td>research</td>\n",
              "      <td>pearson</td>\n",
              "      <td>two-sided</td>\n",
              "      <td>2603</td>\n",
              "      <td>0.913120</td>\n",
              "      <td>[0.91, 0.92]</td>\n",
              "      <td>0.833788</td>\n",
              "      <td>0.833660</td>\n",
              "      <td>1.545980</td>\n",
              "      <td>0.000000e+00</td>\n",
              "      <td>inf</td>\n",
              "      <td>1.000000</td>\n",
              "    </tr>\n",
              "    <tr>\n",
              "      <th>2</th>\n",
              "      <td>teaching</td>\n",
              "      <td>citations</td>\n",
              "      <td>pearson</td>\n",
              "      <td>two-sided</td>\n",
              "      <td>2603</td>\n",
              "      <td>0.503867</td>\n",
              "      <td>[0.47, 0.53]</td>\n",
              "      <td>0.253882</td>\n",
              "      <td>0.253308</td>\n",
              "      <td>0.554475</td>\n",
              "      <td>1.196685e-167</td>\n",
              "      <td>4.751e+163</td>\n",
              "      <td>1.000000</td>\n",
              "    </tr>\n",
              "    <tr>\n",
              "      <th>3</th>\n",
              "      <td>teaching</td>\n",
              "      <td>income</td>\n",
              "      <td>pearson</td>\n",
              "      <td>two-sided</td>\n",
              "      <td>2603</td>\n",
              "      <td>0.323557</td>\n",
              "      <td>[0.29, 0.36]</td>\n",
              "      <td>0.104689</td>\n",
              "      <td>0.104000</td>\n",
              "      <td>0.335615</td>\n",
              "      <td>1.678531e-64</td>\n",
              "      <td>6.315e+60</td>\n",
              "      <td>1.000000</td>\n",
              "    </tr>\n",
              "    <tr>\n",
              "      <th>4</th>\n",
              "      <td>teaching</td>\n",
              "      <td>total_score</td>\n",
              "      <td>pearson</td>\n",
              "      <td>two-sided</td>\n",
              "      <td>2603</td>\n",
              "      <td>0.889349</td>\n",
              "      <td>[0.88, 0.9]</td>\n",
              "      <td>0.790941</td>\n",
              "      <td>0.790781</td>\n",
              "      <td>1.418802</td>\n",
              "      <td>0.000000e+00</td>\n",
              "      <td>inf</td>\n",
              "      <td>1.000000</td>\n",
              "    </tr>\n",
              "    <tr>\n",
              "      <th>5</th>\n",
              "      <td>teaching</td>\n",
              "      <td>num_students</td>\n",
              "      <td>pearson</td>\n",
              "      <td>two-sided</td>\n",
              "      <td>2603</td>\n",
              "      <td>0.042748</td>\n",
              "      <td>[0.0, 0.08]</td>\n",
              "      <td>0.001827</td>\n",
              "      <td>0.001060</td>\n",
              "      <td>0.042775</td>\n",
              "      <td>2.918652e-02</td>\n",
              "      <td>0.265</td>\n",
              "      <td>0.587659</td>\n",
              "    </tr>\n",
              "    <tr>\n",
              "      <th>6</th>\n",
              "      <td>teaching</td>\n",
              "      <td>student_staff_ratio</td>\n",
              "      <td>pearson</td>\n",
              "      <td>two-sided</td>\n",
              "      <td>2603</td>\n",
              "      <td>-0.280054</td>\n",
              "      <td>[-0.32, -0.24]</td>\n",
              "      <td>0.078430</td>\n",
              "      <td>0.077721</td>\n",
              "      <td>-0.287740</td>\n",
              "      <td>4.113496e-48</td>\n",
              "      <td>3.061e+44</td>\n",
              "      <td>1.000000</td>\n",
              "    </tr>\n",
              "    <tr>\n",
              "      <th>7</th>\n",
              "      <td>teaching</td>\n",
              "      <td>international_students</td>\n",
              "      <td>pearson</td>\n",
              "      <td>two-sided</td>\n",
              "      <td>2603</td>\n",
              "      <td>0.276878</td>\n",
              "      <td>[0.24, 0.31]</td>\n",
              "      <td>0.076661</td>\n",
              "      <td>0.075951</td>\n",
              "      <td>0.284298</td>\n",
              "      <td>5.035295e-47</td>\n",
              "      <td>2.534e+43</td>\n",
              "      <td>1.000000</td>\n",
              "    </tr>\n",
              "    <tr>\n",
              "      <th>8</th>\n",
              "      <td>teaching</td>\n",
              "      <td>female_ratio</td>\n",
              "      <td>pearson</td>\n",
              "      <td>two-sided</td>\n",
              "      <td>2603</td>\n",
              "      <td>-0.157360</td>\n",
              "      <td>[-0.19, -0.12]</td>\n",
              "      <td>0.024762</td>\n",
              "      <td>0.024012</td>\n",
              "      <td>-0.158678</td>\n",
              "      <td>6.751277e-16</td>\n",
              "      <td>3.476e+12</td>\n",
              "      <td>1.000000</td>\n",
              "    </tr>\n",
              "    <tr>\n",
              "      <th>9</th>\n",
              "      <td>international</td>\n",
              "      <td>research</td>\n",
              "      <td>pearson</td>\n",
              "      <td>two-sided</td>\n",
              "      <td>2603</td>\n",
              "      <td>0.250956</td>\n",
              "      <td>[0.21, 0.29]</td>\n",
              "      <td>0.062979</td>\n",
              "      <td>0.062258</td>\n",
              "      <td>0.256433</td>\n",
              "      <td>1.127706e-38</td>\n",
              "      <td>1.265e+35</td>\n",
              "      <td>1.000000</td>\n",
              "    </tr>\n",
              "    <tr>\n",
              "      <th>10</th>\n",
              "      <td>international</td>\n",
              "      <td>citations</td>\n",
              "      <td>pearson</td>\n",
              "      <td>two-sided</td>\n",
              "      <td>2603</td>\n",
              "      <td>0.324031</td>\n",
              "      <td>[0.29, 0.36]</td>\n",
              "      <td>0.104996</td>\n",
              "      <td>0.104307</td>\n",
              "      <td>0.336144</td>\n",
              "      <td>1.073440e-64</td>\n",
              "      <td>9.857e+60</td>\n",
              "      <td>1.000000</td>\n",
              "    </tr>\n",
              "    <tr>\n",
              "      <th>11</th>\n",
              "      <td>international</td>\n",
              "      <td>income</td>\n",
              "      <td>pearson</td>\n",
              "      <td>two-sided</td>\n",
              "      <td>2603</td>\n",
              "      <td>0.018978</td>\n",
              "      <td>[-0.02, 0.06]</td>\n",
              "      <td>0.000360</td>\n",
              "      <td>-0.000409</td>\n",
              "      <td>0.018980</td>\n",
              "      <td>3.331052e-01</td>\n",
              "      <td>0.039</td>\n",
              "      <td>0.162300</td>\n",
              "    </tr>\n",
              "    <tr>\n",
              "      <th>12</th>\n",
              "      <td>international</td>\n",
              "      <td>total_score</td>\n",
              "      <td>pearson</td>\n",
              "      <td>two-sided</td>\n",
              "      <td>2603</td>\n",
              "      <td>0.370413</td>\n",
              "      <td>[0.34, 0.4]</td>\n",
              "      <td>0.137206</td>\n",
              "      <td>0.136542</td>\n",
              "      <td>0.388901</td>\n",
              "      <td>1.871245e-85</td>\n",
              "      <td>4.773e+81</td>\n",
              "      <td>1.000000</td>\n",
              "    </tr>\n",
              "    <tr>\n",
              "      <th>13</th>\n",
              "      <td>international</td>\n",
              "      <td>num_students</td>\n",
              "      <td>pearson</td>\n",
              "      <td>two-sided</td>\n",
              "      <td>2603</td>\n",
              "      <td>-0.151260</td>\n",
              "      <td>[-0.19, -0.11]</td>\n",
              "      <td>0.022880</td>\n",
              "      <td>0.022128</td>\n",
              "      <td>-0.152430</td>\n",
              "      <td>8.613324e-15</td>\n",
              "      <td>2.837e+11</td>\n",
              "      <td>1.000000</td>\n",
              "    </tr>\n",
              "    <tr>\n",
              "      <th>14</th>\n",
              "      <td>international</td>\n",
              "      <td>student_staff_ratio</td>\n",
              "      <td>pearson</td>\n",
              "      <td>two-sided</td>\n",
              "      <td>2603</td>\n",
              "      <td>0.053451</td>\n",
              "      <td>[0.02, 0.09]</td>\n",
              "      <td>0.002857</td>\n",
              "      <td>0.002090</td>\n",
              "      <td>0.053502</td>\n",
              "      <td>6.378161e-03</td>\n",
              "      <td>1.012</td>\n",
              "      <td>0.778928</td>\n",
              "    </tr>\n",
              "    <tr>\n",
              "      <th>15</th>\n",
              "      <td>international</td>\n",
              "      <td>international_students</td>\n",
              "      <td>pearson</td>\n",
              "      <td>two-sided</td>\n",
              "      <td>2603</td>\n",
              "      <td>0.801885</td>\n",
              "      <td>[0.79, 0.82]</td>\n",
              "      <td>0.643020</td>\n",
              "      <td>0.642746</td>\n",
              "      <td>1.103872</td>\n",
              "      <td>0.000000e+00</td>\n",
              "      <td>inf</td>\n",
              "      <td>1.000000</td>\n",
              "    </tr>\n",
              "    <tr>\n",
              "      <th>16</th>\n",
              "      <td>international</td>\n",
              "      <td>female_ratio</td>\n",
              "      <td>pearson</td>\n",
              "      <td>two-sided</td>\n",
              "      <td>2603</td>\n",
              "      <td>0.186387</td>\n",
              "      <td>[0.15, 0.22]</td>\n",
              "      <td>0.034740</td>\n",
              "      <td>0.033998</td>\n",
              "      <td>0.188592</td>\n",
              "      <td>8.895659e-22</td>\n",
              "      <td>2.214e+18</td>\n",
              "      <td>1.000000</td>\n",
              "    </tr>\n",
              "    <tr>\n",
              "      <th>17</th>\n",
              "      <td>research</td>\n",
              "      <td>citations</td>\n",
              "      <td>pearson</td>\n",
              "      <td>two-sided</td>\n",
              "      <td>2603</td>\n",
              "      <td>0.525264</td>\n",
              "      <td>[0.5, 0.55]</td>\n",
              "      <td>0.275902</td>\n",
              "      <td>0.275345</td>\n",
              "      <td>0.583581</td>\n",
              "      <td>1.380747e-184</td>\n",
              "      <td>3.834e+180</td>\n",
              "      <td>1.000000</td>\n",
              "    </tr>\n",
              "    <tr>\n",
              "      <th>18</th>\n",
              "      <td>research</td>\n",
              "      <td>income</td>\n",
              "      <td>pearson</td>\n",
              "      <td>two-sided</td>\n",
              "      <td>2603</td>\n",
              "      <td>0.377433</td>\n",
              "      <td>[0.34, 0.41]</td>\n",
              "      <td>0.142456</td>\n",
              "      <td>0.141796</td>\n",
              "      <td>0.397063</td>\n",
              "      <td>6.555053e-89</td>\n",
              "      <td>1.329e+85</td>\n",
              "      <td>1.000000</td>\n",
              "    </tr>\n",
              "    <tr>\n",
              "      <th>19</th>\n",
              "      <td>research</td>\n",
              "      <td>total_score</td>\n",
              "      <td>pearson</td>\n",
              "      <td>two-sided</td>\n",
              "      <td>2603</td>\n",
              "      <td>0.916479</td>\n",
              "      <td>[0.91, 0.92]</td>\n",
              "      <td>0.839935</td>\n",
              "      <td>0.839811</td>\n",
              "      <td>1.566576</td>\n",
              "      <td>0.000000e+00</td>\n",
              "      <td>inf</td>\n",
              "      <td>1.000000</td>\n",
              "    </tr>\n",
              "    <tr>\n",
              "      <th>20</th>\n",
              "      <td>research</td>\n",
              "      <td>num_students</td>\n",
              "      <td>pearson</td>\n",
              "      <td>two-sided</td>\n",
              "      <td>2603</td>\n",
              "      <td>0.060337</td>\n",
              "      <td>[0.02, 0.1]</td>\n",
              "      <td>0.003641</td>\n",
              "      <td>0.002874</td>\n",
              "      <td>0.060411</td>\n",
              "      <td>2.072001e-03</td>\n",
              "      <td>2.81</td>\n",
              "      <td>0.868841</td>\n",
              "    </tr>\n",
              "    <tr>\n",
              "      <th>21</th>\n",
              "      <td>research</td>\n",
              "      <td>student_staff_ratio</td>\n",
              "      <td>pearson</td>\n",
              "      <td>two-sided</td>\n",
              "      <td>2603</td>\n",
              "      <td>-0.195789</td>\n",
              "      <td>[-0.23, -0.16]</td>\n",
              "      <td>0.038333</td>\n",
              "      <td>0.037593</td>\n",
              "      <td>-0.198350</td>\n",
              "      <td>6.637039e-24</td>\n",
              "      <td>2.817e+20</td>\n",
              "      <td>1.000000</td>\n",
              "    </tr>\n",
              "    <tr>\n",
              "      <th>22</th>\n",
              "      <td>research</td>\n",
              "      <td>international_students</td>\n",
              "      <td>pearson</td>\n",
              "      <td>two-sided</td>\n",
              "      <td>2603</td>\n",
              "      <td>0.334371</td>\n",
              "      <td>[0.3, 0.37]</td>\n",
              "      <td>0.111804</td>\n",
              "      <td>0.111121</td>\n",
              "      <td>0.347742</td>\n",
              "      <td>5.063686e-69</td>\n",
              "      <td>2.01e+65</td>\n",
              "      <td>1.000000</td>\n",
              "    </tr>\n",
              "    <tr>\n",
              "      <th>23</th>\n",
              "      <td>research</td>\n",
              "      <td>female_ratio</td>\n",
              "      <td>pearson</td>\n",
              "      <td>two-sided</td>\n",
              "      <td>2603</td>\n",
              "      <td>-0.115711</td>\n",
              "      <td>[-0.15, -0.08]</td>\n",
              "      <td>0.013389</td>\n",
              "      <td>0.012630</td>\n",
              "      <td>-0.116231</td>\n",
              "      <td>3.208184e-09</td>\n",
              "      <td>9.945e+05</td>\n",
              "      <td>0.999964</td>\n",
              "    </tr>\n",
              "    <tr>\n",
              "      <th>24</th>\n",
              "      <td>citations</td>\n",
              "      <td>income</td>\n",
              "      <td>pearson</td>\n",
              "      <td>two-sided</td>\n",
              "      <td>2603</td>\n",
              "      <td>0.061676</td>\n",
              "      <td>[0.02, 0.1]</td>\n",
              "      <td>0.003804</td>\n",
              "      <td>0.003038</td>\n",
              "      <td>0.061755</td>\n",
              "      <td>1.642901e-03</td>\n",
              "      <td>3.477</td>\n",
              "      <td>0.882872</td>\n",
              "    </tr>\n",
              "    <tr>\n",
              "      <th>25</th>\n",
              "      <td>citations</td>\n",
              "      <td>total_score</td>\n",
              "      <td>pearson</td>\n",
              "      <td>two-sided</td>\n",
              "      <td>2603</td>\n",
              "      <td>0.800881</td>\n",
              "      <td>[0.79, 0.81]</td>\n",
              "      <td>0.641411</td>\n",
              "      <td>0.641135</td>\n",
              "      <td>1.101065</td>\n",
              "      <td>0.000000e+00</td>\n",
              "      <td>inf</td>\n",
              "      <td>1.000000</td>\n",
              "    </tr>\n",
              "    <tr>\n",
              "      <th>26</th>\n",
              "      <td>citations</td>\n",
              "      <td>num_students</td>\n",
              "      <td>pearson</td>\n",
              "      <td>two-sided</td>\n",
              "      <td>2603</td>\n",
              "      <td>-0.075926</td>\n",
              "      <td>[-0.11, -0.04]</td>\n",
              "      <td>0.005765</td>\n",
              "      <td>0.005000</td>\n",
              "      <td>-0.076073</td>\n",
              "      <td>1.055526e-04</td>\n",
              "      <td>44.993</td>\n",
              "      <td>0.972551</td>\n",
              "    </tr>\n",
              "    <tr>\n",
              "      <th>27</th>\n",
              "      <td>citations</td>\n",
              "      <td>student_staff_ratio</td>\n",
              "      <td>pearson</td>\n",
              "      <td>two-sided</td>\n",
              "      <td>2603</td>\n",
              "      <td>-0.136241</td>\n",
              "      <td>[-0.17, -0.1]</td>\n",
              "      <td>0.018562</td>\n",
              "      <td>0.017807</td>\n",
              "      <td>-0.137093</td>\n",
              "      <td>2.947775e-12</td>\n",
              "      <td>9.21e+08</td>\n",
              "      <td>1.000000</td>\n",
              "    </tr>\n",
              "    <tr>\n",
              "      <th>28</th>\n",
              "      <td>citations</td>\n",
              "      <td>international_students</td>\n",
              "      <td>pearson</td>\n",
              "      <td>two-sided</td>\n",
              "      <td>2603</td>\n",
              "      <td>0.312519</td>\n",
              "      <td>[0.28, 0.35]</td>\n",
              "      <td>0.097668</td>\n",
              "      <td>0.096974</td>\n",
              "      <td>0.323334</td>\n",
              "      <td>4.487192e-60</td>\n",
              "      <td>2.464e+56</td>\n",
              "      <td>1.000000</td>\n",
              "    </tr>\n",
              "    <tr>\n",
              "      <th>29</th>\n",
              "      <td>citations</td>\n",
              "      <td>female_ratio</td>\n",
              "      <td>pearson</td>\n",
              "      <td>two-sided</td>\n",
              "      <td>2603</td>\n",
              "      <td>0.108044</td>\n",
              "      <td>[0.07, 0.15]</td>\n",
              "      <td>0.011674</td>\n",
              "      <td>0.010913</td>\n",
              "      <td>0.108468</td>\n",
              "      <td>3.277685e-08</td>\n",
              "      <td>1.04e+05</td>\n",
              "      <td>0.999823</td>\n",
              "    </tr>\n",
              "    <tr>\n",
              "      <th>30</th>\n",
              "      <td>income</td>\n",
              "      <td>total_score</td>\n",
              "      <td>pearson</td>\n",
              "      <td>two-sided</td>\n",
              "      <td>2603</td>\n",
              "      <td>0.302782</td>\n",
              "      <td>[0.27, 0.34]</td>\n",
              "      <td>0.091677</td>\n",
              "      <td>0.090978</td>\n",
              "      <td>0.312580</td>\n",
              "      <td>2.529064e-56</td>\n",
              "      <td>4.541e+52</td>\n",
              "      <td>1.000000</td>\n",
              "    </tr>\n",
              "    <tr>\n",
              "      <th>31</th>\n",
              "      <td>income</td>\n",
              "      <td>num_students</td>\n",
              "      <td>pearson</td>\n",
              "      <td>two-sided</td>\n",
              "      <td>2603</td>\n",
              "      <td>-0.035085</td>\n",
              "      <td>[-0.07, 0.0]</td>\n",
              "      <td>0.001231</td>\n",
              "      <td>0.000463</td>\n",
              "      <td>-0.035099</td>\n",
              "      <td>7.350316e-02</td>\n",
              "      <td>0.122</td>\n",
              "      <td>0.432606</td>\n",
              "    </tr>\n",
              "    <tr>\n",
              "      <th>32</th>\n",
              "      <td>income</td>\n",
              "      <td>student_staff_ratio</td>\n",
              "      <td>pearson</td>\n",
              "      <td>two-sided</td>\n",
              "      <td>2603</td>\n",
              "      <td>-0.020287</td>\n",
              "      <td>[-0.06, 0.02]</td>\n",
              "      <td>0.000412</td>\n",
              "      <td>-0.000357</td>\n",
              "      <td>-0.020290</td>\n",
              "      <td>3.008362e-01</td>\n",
              "      <td>0.042</td>\n",
              "      <td>0.178794</td>\n",
              "    </tr>\n",
              "    <tr>\n",
              "      <th>33</th>\n",
              "      <td>income</td>\n",
              "      <td>international_students</td>\n",
              "      <td>pearson</td>\n",
              "      <td>two-sided</td>\n",
              "      <td>2603</td>\n",
              "      <td>0.038086</td>\n",
              "      <td>[-0.0, 0.08]</td>\n",
              "      <td>0.001451</td>\n",
              "      <td>0.000682</td>\n",
              "      <td>0.038104</td>\n",
              "      <td>5.202773e-02</td>\n",
              "      <td>0.162</td>\n",
              "      <td>0.493389</td>\n",
              "    </tr>\n",
              "    <tr>\n",
              "      <th>34</th>\n",
              "      <td>income</td>\n",
              "      <td>female_ratio</td>\n",
              "      <td>pearson</td>\n",
              "      <td>two-sided</td>\n",
              "      <td>2603</td>\n",
              "      <td>-0.311696</td>\n",
              "      <td>[-0.35, -0.28]</td>\n",
              "      <td>0.097154</td>\n",
              "      <td>0.096460</td>\n",
              "      <td>-0.322423</td>\n",
              "      <td>9.429362e-60</td>\n",
              "      <td>1.176e+56</td>\n",
              "      <td>1.000000</td>\n",
              "    </tr>\n",
              "    <tr>\n",
              "      <th>35</th>\n",
              "      <td>total_score</td>\n",
              "      <td>num_students</td>\n",
              "      <td>pearson</td>\n",
              "      <td>two-sided</td>\n",
              "      <td>2603</td>\n",
              "      <td>-0.010937</td>\n",
              "      <td>[-0.05, 0.03]</td>\n",
              "      <td>0.000120</td>\n",
              "      <td>-0.000650</td>\n",
              "      <td>-0.010937</td>\n",
              "      <td>5.770225e-01</td>\n",
              "      <td>0.029</td>\n",
              "      <td>0.086329</td>\n",
              "    </tr>\n",
              "    <tr>\n",
              "      <th>36</th>\n",
              "      <td>total_score</td>\n",
              "      <td>student_staff_ratio</td>\n",
              "      <td>pearson</td>\n",
              "      <td>two-sided</td>\n",
              "      <td>2603</td>\n",
              "      <td>-0.213102</td>\n",
              "      <td>[-0.25, -0.18]</td>\n",
              "      <td>0.045412</td>\n",
              "      <td>0.044678</td>\n",
              "      <td>-0.216419</td>\n",
              "      <td>4.099514e-28</td>\n",
              "      <td>4.166e+24</td>\n",
              "      <td>1.000000</td>\n",
              "    </tr>\n",
              "    <tr>\n",
              "      <th>37</th>\n",
              "      <td>total_score</td>\n",
              "      <td>international_students</td>\n",
              "      <td>pearson</td>\n",
              "      <td>two-sided</td>\n",
              "      <td>2603</td>\n",
              "      <td>0.421547</td>\n",
              "      <td>[0.39, 0.45]</td>\n",
              "      <td>0.177702</td>\n",
              "      <td>0.177070</td>\n",
              "      <td>0.449572</td>\n",
              "      <td>1.158907e-112</td>\n",
              "      <td>6.458e+108</td>\n",
              "      <td>1.000000</td>\n",
              "    </tr>\n",
              "    <tr>\n",
              "      <th>38</th>\n",
              "      <td>total_score</td>\n",
              "      <td>female_ratio</td>\n",
              "      <td>pearson</td>\n",
              "      <td>two-sided</td>\n",
              "      <td>2603</td>\n",
              "      <td>-0.040187</td>\n",
              "      <td>[-0.08, -0.0]</td>\n",
              "      <td>0.001615</td>\n",
              "      <td>0.000847</td>\n",
              "      <td>-0.040209</td>\n",
              "      <td>4.034725e-02</td>\n",
              "      <td>0.201</td>\n",
              "      <td>0.536138</td>\n",
              "    </tr>\n",
              "    <tr>\n",
              "      <th>39</th>\n",
              "      <td>num_students</td>\n",
              "      <td>student_staff_ratio</td>\n",
              "      <td>pearson</td>\n",
              "      <td>two-sided</td>\n",
              "      <td>2603</td>\n",
              "      <td>0.343341</td>\n",
              "      <td>[0.31, 0.38]</td>\n",
              "      <td>0.117883</td>\n",
              "      <td>0.117204</td>\n",
              "      <td>0.357875</td>\n",
              "      <td>6.520860e-73</td>\n",
              "      <td>1.51e+69</td>\n",
              "      <td>1.000000</td>\n",
              "    </tr>\n",
              "    <tr>\n",
              "      <th>40</th>\n",
              "      <td>num_students</td>\n",
              "      <td>international_students</td>\n",
              "      <td>pearson</td>\n",
              "      <td>two-sided</td>\n",
              "      <td>2603</td>\n",
              "      <td>-0.179853</td>\n",
              "      <td>[-0.22, -0.14]</td>\n",
              "      <td>0.032347</td>\n",
              "      <td>0.031603</td>\n",
              "      <td>-0.181831</td>\n",
              "      <td>2.305916e-20</td>\n",
              "      <td>8.866e+16</td>\n",
              "      <td>1.000000</td>\n",
              "    </tr>\n",
              "    <tr>\n",
              "      <th>41</th>\n",
              "      <td>num_students</td>\n",
              "      <td>female_ratio</td>\n",
              "      <td>pearson</td>\n",
              "      <td>two-sided</td>\n",
              "      <td>2603</td>\n",
              "      <td>0.177398</td>\n",
              "      <td>[0.14, 0.21]</td>\n",
              "      <td>0.031470</td>\n",
              "      <td>0.030725</td>\n",
              "      <td>0.179294</td>\n",
              "      <td>7.594715e-20</td>\n",
              "      <td>2.731e+16</td>\n",
              "      <td>1.000000</td>\n",
              "    </tr>\n",
              "    <tr>\n",
              "      <th>42</th>\n",
              "      <td>student_staff_ratio</td>\n",
              "      <td>international_students</td>\n",
              "      <td>pearson</td>\n",
              "      <td>two-sided</td>\n",
              "      <td>2603</td>\n",
              "      <td>-0.084267</td>\n",
              "      <td>[-0.12, -0.05]</td>\n",
              "      <td>0.007101</td>\n",
              "      <td>0.006337</td>\n",
              "      <td>-0.084467</td>\n",
              "      <td>1.671023e-05</td>\n",
              "      <td>258.268</td>\n",
              "      <td>0.990558</td>\n",
              "    </tr>\n",
              "    <tr>\n",
              "      <th>43</th>\n",
              "      <td>student_staff_ratio</td>\n",
              "      <td>female_ratio</td>\n",
              "      <td>pearson</td>\n",
              "      <td>two-sided</td>\n",
              "      <td>2603</td>\n",
              "      <td>0.135610</td>\n",
              "      <td>[0.1, 0.17]</td>\n",
              "      <td>0.018390</td>\n",
              "      <td>0.017635</td>\n",
              "      <td>0.136450</td>\n",
              "      <td>3.716989e-12</td>\n",
              "      <td>7.338e+08</td>\n",
              "      <td>1.000000</td>\n",
              "    </tr>\n",
              "    <tr>\n",
              "      <th>44</th>\n",
              "      <td>international_students</td>\n",
              "      <td>female_ratio</td>\n",
              "      <td>pearson</td>\n",
              "      <td>two-sided</td>\n",
              "      <td>2603</td>\n",
              "      <td>0.060795</td>\n",
              "      <td>[0.02, 0.1]</td>\n",
              "      <td>0.003696</td>\n",
              "      <td>0.002930</td>\n",
              "      <td>0.060870</td>\n",
              "      <td>1.914910e-03</td>\n",
              "      <td>3.02</td>\n",
              "      <td>0.873763</td>\n",
              "    </tr>\n",
              "  </tbody>\n",
              "</table>\n",
              "</div>"
            ],
            "text/plain": [
              "                         X                       Y  ...        BF10     power\n",
              "0                 teaching           international  ...   2.529e+09  1.000000\n",
              "1                 teaching                research  ...         inf  1.000000\n",
              "2                 teaching               citations  ...  4.751e+163  1.000000\n",
              "3                 teaching                  income  ...   6.315e+60  1.000000\n",
              "4                 teaching             total_score  ...         inf  1.000000\n",
              "5                 teaching            num_students  ...       0.265  0.587659\n",
              "6                 teaching     student_staff_ratio  ...   3.061e+44  1.000000\n",
              "7                 teaching  international_students  ...   2.534e+43  1.000000\n",
              "8                 teaching            female_ratio  ...   3.476e+12  1.000000\n",
              "9            international                research  ...   1.265e+35  1.000000\n",
              "10           international               citations  ...   9.857e+60  1.000000\n",
              "11           international                  income  ...       0.039  0.162300\n",
              "12           international             total_score  ...   4.773e+81  1.000000\n",
              "13           international            num_students  ...   2.837e+11  1.000000\n",
              "14           international     student_staff_ratio  ...       1.012  0.778928\n",
              "15           international  international_students  ...         inf  1.000000\n",
              "16           international            female_ratio  ...   2.214e+18  1.000000\n",
              "17                research               citations  ...  3.834e+180  1.000000\n",
              "18                research                  income  ...   1.329e+85  1.000000\n",
              "19                research             total_score  ...         inf  1.000000\n",
              "20                research            num_students  ...        2.81  0.868841\n",
              "21                research     student_staff_ratio  ...   2.817e+20  1.000000\n",
              "22                research  international_students  ...    2.01e+65  1.000000\n",
              "23                research            female_ratio  ...   9.945e+05  0.999964\n",
              "24               citations                  income  ...       3.477  0.882872\n",
              "25               citations             total_score  ...         inf  1.000000\n",
              "26               citations            num_students  ...      44.993  0.972551\n",
              "27               citations     student_staff_ratio  ...    9.21e+08  1.000000\n",
              "28               citations  international_students  ...   2.464e+56  1.000000\n",
              "29               citations            female_ratio  ...    1.04e+05  0.999823\n",
              "30                  income             total_score  ...   4.541e+52  1.000000\n",
              "31                  income            num_students  ...       0.122  0.432606\n",
              "32                  income     student_staff_ratio  ...       0.042  0.178794\n",
              "33                  income  international_students  ...       0.162  0.493389\n",
              "34                  income            female_ratio  ...   1.176e+56  1.000000\n",
              "35             total_score            num_students  ...       0.029  0.086329\n",
              "36             total_score     student_staff_ratio  ...   4.166e+24  1.000000\n",
              "37             total_score  international_students  ...  6.458e+108  1.000000\n",
              "38             total_score            female_ratio  ...       0.201  0.536138\n",
              "39            num_students     student_staff_ratio  ...    1.51e+69  1.000000\n",
              "40            num_students  international_students  ...   8.866e+16  1.000000\n",
              "41            num_students            female_ratio  ...   2.731e+16  1.000000\n",
              "42     student_staff_ratio  international_students  ...     258.268  0.990558\n",
              "43     student_staff_ratio            female_ratio  ...   7.338e+08  1.000000\n",
              "44  international_students            female_ratio  ...        3.02  0.873763\n",
              "\n",
              "[45 rows x 13 columns]"
            ]
          },
          "metadata": {
            "tags": []
          },
          "execution_count": 1700
        }
      ]
    },
    {
      "cell_type": "markdown",
      "metadata": {
        "id": "I1PBz66SWM5M"
      },
      "source": [
        "**Analyze the correlation between `teaching` and `total_score`**"
      ]
    },
    {
      "cell_type": "code",
      "metadata": {
        "id": "0bXqdeJomu51",
        "outputId": "fc917f35-1674-495d-e7f1-8c11f47d3675",
        "colab": {
          "base_uri": "https://localhost:8080/",
          "height": 339
        }
      },
      "source": [
        "# Plot a scatter plot between teaching and total_score\n",
        "top2011 = data.loc[data['year'] == 2011].head(100)\n",
        "\n",
        "x = top2011['total_score']\n",
        "y = top2011['teaching']\n",
        "\n",
        "plt.figure(figsize=(5, 5))\n",
        "ax = sns.scatterplot(x=x, \n",
        "                   y=y)"
      ],
      "execution_count": null,
      "outputs": [
        {
          "output_type": "display_data",
          "data": {
            "image/png": "[encoded data removed]",
            "text/plain": [
              "<Figure size 360x360 with 1 Axes>"
            ]
          },
          "metadata": {
            "tags": []
          }
        }
      ]
    },
    {
      "cell_type": "markdown",
      "metadata": {
        "id": "hed0bZuev5Gl"
      },
      "source": [
        "Hence, we can conclude that universities with greater overall score have better teaching scores. The relation follows a roughly linear path with positive slope.\n",
        "\n",
        "\n",
        "*This suggests a positive correlation between the variables.*\n",
        "\n",
        "We can infer that universities that are ranked higher up have better learning and educational environments."
      ]
    },
    {
      "cell_type": "markdown",
      "metadata": {
        "id": "_P5UUko-wwtz"
      },
      "source": [
        "**Analyze the correlation between `research` and `citations` in 2015 and 2016**"
      ]
    },
    {
      "cell_type": "code",
      "metadata": {
        "id": "i7bn5VWGK-0j",
        "outputId": "ece3b4b3-797b-4432-d21f-542a8632019a",
        "colab": {
          "base_uri": "https://localhost:8080/",
          "height": 355
        }
      },
      "source": [
        "# Select data from 2015 and 2016\n",
        "data2015 = data.loc[data['year'] == 2015]\n",
        "data2016 = data.loc[data['year'] == 2016]\n",
        "\n",
        "# Pick out citations and research score data\n",
        "x_2015 = data2015['citations']\n",
        "y_2015 = data2015['research']\n",
        "x_2016 = data2016['citations']\n",
        "y_2016 = data2016['research']\n",
        "\n",
        "# Plot scatterplots for both years\n",
        "plt.figure(figsize=(14, 5))\n",
        "plt.subplot(1, 2, 1)\n",
        "plt.title(\"Relation between research and citations in 2015\")\n",
        "ax = sns.scatterplot(x = x_2015, \n",
        "                   y = y_2015)\n",
        "plt.subplot(1, 2, 2)\n",
        "plt.title(\"Relation between research and citations in 2016\")\n",
        "ax = sns.scatterplot(x = x_2016, \n",
        "                   y = y_2016)\n",
        "plt.show()"
      ],
      "execution_count": null,
      "outputs": [
        {
          "output_type": "display_data",
          "data": {
            "image/png": "[encoded data removed]",
            "text/plain": [
              "<Figure size 1008x360 with 2 Axes>"
            ]
          },
          "metadata": {
            "tags": []
          }
        }
      ]
    },
    {
      "cell_type": "markdown",
      "metadata": {
        "id": "que-zRXrTilD"
      },
      "source": [
        "We can infer from the plotted graphs that the research score approximately follows an exponential curve, indicating that a higher `citation` score (how much a university is contributing to the sum of human knowledge), the higher the `research` score (a university’s reputation for research excellence among its peers). \n",
        "\n",
        "*This suggests a positive correlation between the variables.*\n",
        "\n",
        "This does have exceptions however, where universities with a high `citation` score in the lower right part of the plots had a very low `research` score. A couple universities with very low `citation` scores had relatively high `research`scores."
      ]
    },
    {
      "cell_type": "markdown",
      "metadata": {
        "id": "xCfAuG26d7UT"
      },
      "source": [
        "**Analyze the correlation between `student_staff_ratio` and `teaching`**"
      ]
    },
    {
      "cell_type": "code",
      "metadata": {
        "id": "J-UbI9Iod_Cs",
        "outputId": "ee19a456-dd24-4e27-f331-13024875c2f4",
        "colab": {
          "base_uri": "https://localhost:8080/",
          "height": 355
        }
      },
      "source": [
        "# Plot a scatter plot between student_staff_ratio and international_students\n",
        "top2015 = data.loc[data['year'] == 2015].head(100)\n",
        "top2016 = data.loc[data['year'] == 2016].head(100)\n",
        "\n",
        "x_2015 = top2015['teaching']\n",
        "y_2015 = top2015['student_staff_ratio']\n",
        "\n",
        "x_2016 = top2016['teaching']\n",
        "y_2016 = top2016['student_staff_ratio']\n",
        "\n",
        "plt.figure(figsize=(14, 5))\n",
        "plt.subplot(1, 2, 1)\n",
        "plt.title(\"Relation between student_staff_ratio and teaching in 2015\")\n",
        "ax = sns.scatterplot(x = x_2015, \n",
        "                   y = y_2015)\n",
        "plt.subplot(1, 2, 2)\n",
        "plt.title(\"Relation between student_staff_ratio and teaching in 2016\")\n",
        "ax = sns.scatterplot(x = x_2016, \n",
        "                   y = y_2016)\n",
        "plt.show()"
      ],
      "execution_count": null,
      "outputs": [
        {
          "output_type": "display_data",
          "data": {
            "image/png": "[encoded data removed]",
            "text/plain": [
              "<Figure size 1008x360 with 2 Axes>"
            ]
          },
          "metadata": {
            "tags": []
          }
        }
      ]
    },
    {
      "cell_type": "markdown",
      "metadata": {
        "id": "SrSAkEodzFG0"
      },
      "source": [
        "We can infer from this graph that teaching scores and student_staff_ratio are negatively correlated. Universities with higher teaching scores and relatively better learning environments have relatively lesser staff employed."
      ]
    },
    {
      "cell_type": "markdown",
      "metadata": {
        "id": "tCwDuvYdZT6n"
      },
      "source": [
        "### Resources Used\n",
        "\n",
        "The Pitfalls of Data Normalization : \n",
        "https://radiant-brushlands-42789.herokuapp.com/towardsdatascience.com/pitfalls-of-data-normalization-bf05d65f1f4c\n",
        "\n",
        "How low can a p-value go? : https://stats.stackexchange.com/questions/11812/sanity-check-how-low-can-a-p-value-go\n",
        "\n",
        "Welch t - testing Notes : https://ocw.mit.edu/resources/res-6-009-how-to-process-analyze-and-visualize-data-january-iap-2012/lectures-and-labs/MITRES_6_009IAP12_lab3a.pdf"
      ]
    }
  ]
}